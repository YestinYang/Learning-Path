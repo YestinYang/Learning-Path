{
 "cells": [
  {
   "cell_type": "markdown",
   "metadata": {},
   "source": [
    "# Shell Command for Downloading Files from Online Jupyter Hub\n",
    "\n",
    "[Reference from Reddit](https://www.reddit.com/r/learnmachinelearning/comments/7er5ps/coursera_downloading_all_the_assignments_jupyter/)\n",
    "\n",
    "Used for Coursera or Udacity integrated Jupyter Notebook.\n",
    "\n",
    "Create folder 'utils' in root level."
   ]
  },
  {
   "cell_type": "code",
   "execution_count": null,
   "metadata": {},
   "outputs": [],
   "source": [
    "# make directories for downloads\n",
    "!mkdir downloads\n",
    "!mkdir downloads_zip"
   ]
  },
  {
   "cell_type": "code",
   "execution_count": null,
   "metadata": {},
   "outputs": [],
   "source": [
    "# copy files\n",
    "# update folder name case by case\n",
    "!cp ../week1 downloads/week1 -R\n",
    "!cp ../week2 downloads/week2 -R\n",
    "!cp ../week3 downloads/week3 -R\n",
    "!cp ../week4 downloads/week4 -R\n",
    "!cp ../dummy downloads/dummy -R\n",
    "!cp ../readonly downloads/readonly -R"
   ]
  },
  {
   "cell_type": "code",
   "execution_count": null,
   "metadata": {},
   "outputs": [],
   "source": [
    "# list symbolic links pointing to itself (if there is nothing here there is no need to run the next cell)\n",
    "!cd downloads/ && find ./ -type l -exec sh -c 'readlink -f \"{}\" 1>/dev/null || rm \"{}\"' -- \"{}\" \\;"
   ]
  },
  {
   "cell_type": "code",
   "execution_count": null,
   "metadata": {},
   "outputs": [],
   "source": [
    "# remove symbolic links pointing to itself (if any)\n",
    "!cd downloads/ && find ./ -type l -exec sh -c 'readlink -f \"{}\" 1>/dev/null || rm \"{}\"' -- \"{}\" \\;"
   ]
  },
  {
   "cell_type": "code",
   "execution_count": null,
   "metadata": {},
   "outputs": [],
   "source": [
    "# copy files again and this time also download symlinks content\n",
    "!tar -hcf - downloads | tar -xf - -C downloads_zip"
   ]
  },
  {
   "cell_type": "code",
   "execution_count": null,
   "metadata": {},
   "outputs": [],
   "source": [
    "# gz the files\n",
    "!tar cvfz downloads_zip.tar.gz \\\n",
    "    'downloads_zip' \\"
   ]
  },
  {
   "cell_type": "code",
   "execution_count": null,
   "metadata": {},
   "outputs": [],
   "source": [
    "# split the files in order to be able to download them\n",
    "!split -b 200m downloads_zip.tar.gz downloads_zip.tar.gz.part."
   ]
  },
  {
   "cell_type": "code",
   "execution_count": null,
   "metadata": {},
   "outputs": [],
   "source": [
    "# run this in your terminal on your local machine in the folder you downloaded the gzip parts (Mac / Linux only)\n",
    "# cat downloads_zip.tar.gz.part.* > downloads_zip.tar.gz"
   ]
  },
  {
   "cell_type": "code",
   "execution_count": null,
   "metadata": {},
   "outputs": [],
   "source": [
    "# clean up\n",
    "!rm -rf downloads/\n",
    "!rm -rf downloads_zip/\n",
    "!rm -rf downloads_zip.tar.gz\n",
    "# repeat the above line for all parts as well"
   ]
  }
 ],
 "metadata": {
  "kernelspec": {
   "display_name": "Python 3",
   "language": "python",
   "name": "python3"
  },
  "language_info": {
   "codemirror_mode": {
    "name": "ipython",
    "version": 3
   },
   "file_extension": ".py",
   "mimetype": "text/x-python",
   "name": "python",
   "nbconvert_exporter": "python",
   "pygments_lexer": "ipython3",
   "version": "3.6.4"
  }
 },
 "nbformat": 4,
 "nbformat_minor": 2
}
