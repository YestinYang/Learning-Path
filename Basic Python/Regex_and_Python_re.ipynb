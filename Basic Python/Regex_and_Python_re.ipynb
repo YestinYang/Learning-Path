{
 "cells": [
  {
   "cell_type": "markdown",
   "metadata": {},
   "source": [
    "# Regular Expression and Python re Module\n",
    "\n",
    "## Regular Expression (Regex) Basic\n",
    "\n",
    "- `.`       -- Any Character Except New Line \\n\n",
    "- `\\d`      -- Digit (0-9)\n",
    "- `\\D`      -- Not a Digit (0-9)\n",
    "- `\\w`      -- Word Character (a-z, A-Z, 0-9, _)\n",
    "- `\\W`      -- Not a Word Character\n",
    "- `\\s`      -- Whitespace (space, tab, newline)\n",
    "- `\\S`      -- Not Whitespace (space, tab, newline)\n",
    "\n",
    "\n",
    "- `\\b`      -- Word Boundary\n",
    "- `\\B`      -- Not a Word Boundary\n",
    "- `^`       -- Beginning of a String\n",
    "- `$`       -- End of a String\n",
    "\n",
    "\n",
    "- `[]`      -- Matches ONE of Characters in brackets (Character set)\n",
    "- `[^ ]`    -- Matches Characters NOT in brackets\n",
    "- `|`       -- Either Or\n",
    "- `( )`     -- Group\n",
    "\n",
    "Quantifiers: (following above contents)\n",
    "- `*`       -- 0 or More\n",
    "- `+`       -- 1 or More\n",
    "- `?`       -- 0 or One\n",
    "- `{3}`     -- Exact Number\n",
    "- `{3,4}`   -- Range of Numbers (Minimum, Maximum)\n",
    "\n",
    "MetaCharacters: (need to be escaped with backslash)\n",
    "- `.[{()\\^$|?*+`"
   ]
  },
  {
   "cell_type": "markdown",
   "metadata": {},
   "source": [
    "## Python re Module\n",
    "\n",
    "**Standard procedure:**\n",
    "\n",
    "1. `re.compile(r'regex', flags)` : create regex pattern\n",
    "    - `flags` is like `re.IGNORECASE` or `re.I` to ignore case\n",
    "2. `finditer(text_to_search)` : return all matches of each lines, with location info\n",
    "3. `findall(text_to_search)` : return all matches of each lines as list only; and if matching groups, only return groups\n",
    "4. `match(text_to_search)` : return match at the beginning of the string\n",
    "5. `search(text_to_search)` : retunr the first match"
   ]
  },
  {
   "cell_type": "markdown",
   "metadata": {},
   "source": [
    "## Demonstration of Regex with re Module"
   ]
  },
  {
   "cell_type": "code",
   "execution_count": 152,
   "metadata": {},
   "outputs": [],
   "source": [
    "text_to_search = '''\n",
    "abcdefghijklmnopqurtuvwxyz\n",
    "ABCDEFGHIJKLMNOPQRSTUVWXYZ\n",
    "1234567890\n",
    "\n",
    "Ha HaHa\n",
    "\n",
    "coreyms.com\n",
    "\n",
    "321-555-4321\n",
    "123.555.1234\n",
    "123*555*1234\n",
    "800-555-1234\n",
    "900-555-1234\n",
    "\n",
    "Mr. Schafer\n",
    "Mr Smith\n",
    "Ms Davis\n",
    "Mrs. Robinson\n",
    "Mr. T\n",
    "\n",
    "cat pat mat bat\n",
    "\n",
    "https://www.google.com\n",
    "http://coreyms.com\n",
    "https://youtube.com\n",
    "https://www.nasa.gov\n",
    "'''"
   ]
  },
  {
   "cell_type": "code",
   "execution_count": 153,
   "metadata": {},
   "outputs": [],
   "source": [
    "import re\n",
    "\n",
    "def re_finditer(regex, text = text_to_search):\n",
    "    count = 1\n",
    "    pattern = re.compile(regex)\n",
    "    matches = pattern.finditer(text)\n",
    "    if len(list(pattern.finditer(text))) == 0:\n",
    "        print  (regex+': Nothing Matched')\n",
    "    else:\n",
    "        for match in matches:\n",
    "            print (regex+' '+str(count)+': '+str(match))\n",
    "            count += 1\n",
    "    print ('\\r')"
   ]
  },
  {
   "cell_type": "code",
   "execution_count": 121,
   "metadata": {},
   "outputs": [
    {
     "name": "stdout",
     "output_type": "stream",
     "text": [
      "abc 1: <_sre.SRE_Match object; span=(1, 4), match='abc'>\n",
      "\n",
      "ABC 1: <_sre.SRE_Match object; span=(28, 31), match='ABC'>\n",
      "\n",
      "cba: Nothing Matched\n",
      "\n"
     ]
    }
   ],
   "source": [
    "# Simple example\n",
    "re_finditer(r'abc')\n",
    "re_finditer(r'ABC')\n",
    "re_finditer(r'cba')"
   ]
  },
  {
   "cell_type": "code",
   "execution_count": 112,
   "metadata": {},
   "outputs": [
    {
     "name": "stdout",
     "output_type": "stream",
     "text": [
      "\\bHa 1: <_sre.SRE_Match object; span=(67, 69), match='Ha'>\n",
      "\\bHa 2: <_sre.SRE_Match object; span=(70, 72), match='Ha'>\n",
      "\n",
      "Ha\\b 1: <_sre.SRE_Match object; span=(67, 69), match='Ha'>\n",
      "Ha\\b 2: <_sre.SRE_Match object; span=(72, 74), match='Ha'>\n",
      "\n",
      "\\bHa\\b 1: <_sre.SRE_Match object; span=(67, 69), match='Ha'>\n",
      "\n",
      "\\BHa 1: <_sre.SRE_Match object; span=(72, 74), match='Ha'>\n",
      "\n"
     ]
    }
   ],
   "source": [
    "# With word boundary for ' Ha HaHa'\n",
    "re_finditer(r'\\bHa')  # 1st and 2nd Ha\n",
    "re_finditer(r'Ha\\b')  # 1st and 3rd Ha\n",
    "re_finditer(r'\\bHa\\b')  # 1st Ha\n",
    "re_finditer(r'\\BHa')  # 3rd Ha"
   ]
  },
  {
   "cell_type": "code",
   "execution_count": 113,
   "metadata": {},
   "outputs": [
    {
     "name": "stdout",
     "output_type": "stream",
     "text": [
      "^Start 1: <_sre.SRE_Match object; span=(0, 5), match='Start'>\n",
      "\n",
      "^a: Nothing Matched\n",
      "\n",
      "end$ 1: <_sre.SRE_Match object; span=(27, 30), match='end'>\n",
      "\n",
      "the$: Nothing Matched\n",
      "\n"
     ]
    }
   ],
   "source": [
    "# With beginning and end\n",
    "re_finditer(r'^Start', text = 'Start the life and go to the end')\n",
    "re_finditer(r'^a', text = 'Start the life and go to the end')\n",
    "re_finditer(r'end$', text = 'Start the life and go to the end')\n",
    "re_finditer(r'the$', text = 'Start the life and go to the end')"
   ]
  },
  {
   "cell_type": "code",
   "execution_count": 115,
   "metadata": {},
   "outputs": [
    {
     "name": "stdout",
     "output_type": "stream",
     "text": [
      "\\d\\d\\d.\\d\\d\\d.\\d\\d\\d\\d 1: <_sre.SRE_Match object; span=(140, 152), match='321-555-4321'>\n",
      "\\d\\d\\d.\\d\\d\\d.\\d\\d\\d\\d 2: <_sre.SRE_Match object; span=(153, 165), match='123.555.1234'>\n",
      "\\d\\d\\d.\\d\\d\\d.\\d\\d\\d\\d 3: <_sre.SRE_Match object; span=(166, 178), match='123*555*1234'>\n",
      "\\d\\d\\d.\\d\\d\\d.\\d\\d\\d\\d 4: <_sre.SRE_Match object; span=(179, 191), match='800-555-1234'>\n",
      "\\d\\d\\d.\\d\\d\\d.\\d\\d\\d\\d 5: <_sre.SRE_Match object; span=(192, 204), match='900-555-1234'>\n",
      "\n",
      "\\d{3}.\\d{3}.\\d{4} 1: <_sre.SRE_Match object; span=(140, 152), match='321-555-4321'>\n",
      "\\d{3}.\\d{3}.\\d{4} 2: <_sre.SRE_Match object; span=(153, 165), match='123.555.1234'>\n",
      "\\d{3}.\\d{3}.\\d{4} 3: <_sre.SRE_Match object; span=(166, 178), match='123*555*1234'>\n",
      "\\d{3}.\\d{3}.\\d{4} 4: <_sre.SRE_Match object; span=(179, 191), match='800-555-1234'>\n",
      "\\d{3}.\\d{3}.\\d{4} 5: <_sre.SRE_Match object; span=(192, 204), match='900-555-1234'>\n",
      "\n",
      "\\d{3}[-.]\\d{3}[-.]\\d{4} 1: <_sre.SRE_Match object; span=(140, 152), match='321-555-4321'>\n",
      "\\d{3}[-.]\\d{3}[-.]\\d{4} 2: <_sre.SRE_Match object; span=(153, 165), match='123.555.1234'>\n",
      "\\d{3}[-.]\\d{3}[-.]\\d{4} 3: <_sre.SRE_Match object; span=(179, 191), match='800-555-1234'>\n",
      "\\d{3}[-.]\\d{3}[-.]\\d{4} 4: <_sre.SRE_Match object; span=(192, 204), match='900-555-1234'>\n",
      "\n",
      "[89]00[-.]\\d{3}[-.]\\d{4} 1: <_sre.SRE_Match object; span=(179, 191), match='800-555-1234'>\n",
      "[89]00[-.]\\d{3}[-.]\\d{4} 2: <_sre.SRE_Match object; span=(192, 204), match='900-555-1234'>\n",
      "\n"
     ]
    }
   ],
   "source": [
    "# Phone numbers\n",
    "re_finditer(r'\\d\\d\\d.\\d\\d\\d.\\d\\d\\d\\d')\n",
    "re_finditer(r'\\d{3}.\\d{3}.\\d{4}')  # same as above\n",
    "re_finditer(r'\\d{3}[-.]\\d{3}[-.]\\d{4}')\n",
    "re_finditer(r'[89]00[-.]\\d{3}[-.]\\d{4}')"
   ]
  },
  {
   "cell_type": "code",
   "execution_count": 122,
   "metadata": {},
   "outputs": [
    {
     "name": "stdout",
     "output_type": "stream",
     "text": [
      "[^b]at 1: <_sre.SRE_Match object; span=(257, 260), match='cat'>\n",
      "[^b]at 2: <_sre.SRE_Match object; span=(261, 264), match='pat'>\n",
      "[^b]at 3: <_sre.SRE_Match object; span=(265, 268), match='mat'>\n",
      "\n"
     ]
    }
   ],
   "source": [
    "# Words\n",
    "re_finditer(r'[^b]at')"
   ]
  },
  {
   "cell_type": "code",
   "execution_count": 182,
   "metadata": {},
   "outputs": [
    {
     "name": "stdout",
     "output_type": "stream",
     "text": [
      "M[r|s|rs]\\.?\\s[A-Z]\\w* 1: <_sre.SRE_Match object; span=(155, 166), match='Mr. Schafer'>\n",
      "M[r|s|rs]\\.?\\s[A-Z]\\w* 2: <_sre.SRE_Match object; span=(167, 175), match='Mr Smith'>\n",
      "M[r|s|rs]\\.?\\s[A-Z]\\w* 3: <_sre.SRE_Match object; span=(176, 184), match='Ms Davis'>\n",
      "M[r|s|rs]\\.?\\s[A-Z]\\w* 4: <_sre.SRE_Match object; span=(199, 204), match='Mr. T'>\n",
      "\n"
     ]
    }
   ],
   "source": [
    "# Title + name\n",
    "re_finditer(r'M[r|s|rs]\\.?\\s[A-Z]\\w*')"
   ]
  },
  {
   "cell_type": "code",
   "execution_count": 163,
   "metadata": {},
   "outputs": [
    {
     "name": "stdout",
     "output_type": "stream",
     "text": [
      "https?://(www\\.)?(\\w+)(\\.\\w+) 1: <_sre.SRE_Match object; span=(223, 245), match='https://www.google.com'>\n",
      "https?://(www\\.)?(\\w+)(\\.\\w+) 2: <_sre.SRE_Match object; span=(246, 264), match='http://coreyms.com'>\n",
      "https?://(www\\.)?(\\w+)(\\.\\w+) 3: <_sre.SRE_Match object; span=(265, 284), match='https://youtube.com'>\n",
      "https?://(www\\.)?(\\w+)(\\.\\w+) 4: <_sre.SRE_Match object; span=(285, 305), match='https://www.nasa.gov'>\n",
      "\n"
     ]
    }
   ],
   "source": [
    "## Slicing out domain and suffix from url\n",
    "# Finding them\n",
    "re_finditer(r'https?://(www\\.)?(\\w+)(\\.\\w+)')"
   ]
  },
  {
   "cell_type": "code",
   "execution_count": 179,
   "metadata": {},
   "outputs": [
    {
     "name": "stdout",
     "output_type": "stream",
     "text": [
      "Group 0: https://www.google.com\n",
      "Group 1: www.\n",
      "Group 2: google\n",
      "Group 3: .com\n",
      "\n",
      "Group 0: http://coreyms.com\n",
      "Group 1: None\n",
      "Group 2: coreyms\n",
      "Group 3: .com\n",
      "\n",
      "Group 0: https://youtube.com\n",
      "Group 1: None\n",
      "Group 2: youtube\n",
      "Group 3: .com\n",
      "\n",
      "Group 0: https://www.nasa.gov\n",
      "Group 1: www.\n",
      "Group 2: nasa\n",
      "Group 3: .gov\n",
      "\n"
     ]
    }
   ],
   "source": [
    "# Understand groups\n",
    "pattern = re.compile(r'https?://(www\\.)?(\\w+)(\\.\\w+)')\n",
    "matches = pattern.finditer(text_to_search)\n",
    "for match in matches:\n",
    "    print ('Group 0: '+ str(match.group(0)))  # whole matached\n",
    "    print ('Group 1: '+ str(match.group(1)))\n",
    "    print ('Group 2: '+ str(match.group(2)))\n",
    "    print ('Group 3: '+ str(match.group(3)))\n",
    "    print ('\\r')"
   ]
  },
  {
   "cell_type": "code",
   "execution_count": 180,
   "metadata": {},
   "outputs": [
    {
     "name": "stdout",
     "output_type": "stream",
     "text": [
      "\n",
      "abcdefghijklmnopqurtuvwxyz\n",
      "ABCDEFGHIJKLMNOPQRSTUVWXYZ\n",
      "1234567890\n",
      "\n",
      "Ha HaHa\n",
      "\n",
      "coreyms.com\n",
      "\n",
      "321-555-4321\n",
      "123.555.1234\n",
      "123*555*1234\n",
      "800-555-1234\n",
      "900-555-1234\n",
      "\n",
      "Mr. Schafer\n",
      "Mr Smith\n",
      "Ms Davis\n",
      "Mrs. Robinson\n",
      "Mr. T\n",
      "\n",
      "cat pat mat bat\n",
      "\n",
      "google.com\n",
      "coreyms.com\n",
      "youtube.com\n",
      "nasa.gov\n",
      "\n"
     ]
    }
   ],
   "source": [
    "# Substitute matched by particular groups\n",
    "subbed_urls = pattern.sub(r'\\2\\3', text_to_search)\n",
    "print (subbed_urls)"
   ]
  },
  {
   "cell_type": "code",
   "execution_count": 188,
   "metadata": {},
   "outputs": [
    {
     "name": "stdout",
     "output_type": "stream",
     "text": [
      "['Mr. Schafer', 'Mr Smith', 'Ms Davis', 'Mr. T']\n",
      "[('Mr', '. Schafer'), ('Mr', ' Smith'), ('Ms', ' Davis'), ('Mr', '. T')]\n"
     ]
    }
   ],
   "source": [
    "## Demonstrate other methods of re\n",
    "# findall without groups\n",
    "regex = re.compile(r'M[r|s|rs]\\.?\\s[A-Z]\\w*')\n",
    "matches = regex.findall(text_to_search)\n",
    "print (matches) \n",
    "\n",
    "# finall with groups\n",
    "regex = re.compile(r'(M[r|s|rs])(\\.?\\s[A-Z]\\w*)')\n",
    "matches = regex.findall(text_to_search)\n",
    "print (matches) "
   ]
  },
  {
   "cell_type": "code",
   "execution_count": 191,
   "metadata": {},
   "outputs": [
    {
     "name": "stdout",
     "output_type": "stream",
     "text": [
      "<_sre.SRE_Match object; span=(0, 5), match='Start'>\n",
      "None\n"
     ]
    }
   ],
   "source": [
    "# match -- only match at the beginning\n",
    "regex = re.compile(r'Start')\n",
    "matches = regex.match('Start the life and go to the end')\n",
    "print (matches)\n",
    "\n",
    "regex = re.compile(r'life')\n",
    "matches = regex.match('Start the life and go to the end')\n",
    "print (matches)"
   ]
  },
  {
   "cell_type": "code",
   "execution_count": 193,
   "metadata": {},
   "outputs": [
    {
     "name": "stdout",
     "output_type": "stream",
     "text": [
      "<_sre.SRE_Match object; span=(6, 9), match='the'>\n"
     ]
    }
   ],
   "source": [
    "# search -- only return the first match\n",
    "regex = re.compile(r'the')\n",
    "matches = regex.search('Start the life and go to the end')\n",
    "print (matches)"
   ]
  },
  {
   "cell_type": "markdown",
   "metadata": {},
   "source": [
    "### Reference\n",
    "\n",
    "1. [Python Tutorial: re Module - How to Write and Match Regular Expressions (Regex)](https://www.youtube.com/watch?v=K8L6KVGG-7o&t=512s)"
   ]
  }
 ],
 "metadata": {
  "kernelspec": {
   "display_name": "Python 3",
   "language": "python",
   "name": "python3"
  },
  "language_info": {
   "codemirror_mode": {
    "name": "ipython",
    "version": 3
   },
   "file_extension": ".py",
   "mimetype": "text/x-python",
   "name": "python",
   "nbconvert_exporter": "python",
   "pygments_lexer": "ipython3",
   "version": "3.6.4"
  }
 },
 "nbformat": 4,
 "nbformat_minor": 2
}
