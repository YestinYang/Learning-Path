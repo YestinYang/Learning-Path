{
 "cells": [
  {
   "cell_type": "markdown",
   "metadata": {},
   "source": [
    "# Regular Expression and Python re Module\n",
    "\n",
    "## Regular Expression (Regex) Basic\n",
    "\n",
    "- `.`       -- Any Character Except New Line\n",
    "- `\\d`      -- Digit (0-9)\n",
    "- `\\D`      -- Not a Digit (0-9)\n",
    "- `\\w`      -- Word Character (a-z, A-Z, 0-9, _)\n",
    "- `\\W`      -- Not a Word Character\n",
    "- `\\s`      -- Whitespace (space, tab, newline)\n",
    "- `\\S`      -- Not Whitespace (space, tab, newline)\n",
    "\n",
    "\n",
    "- `\\b`      -- Word Boundary\n",
    "- `\\B`      -- Not a Word Boundary\n",
    "- `^`       -- Beginning of a String\n",
    "- `$`       -- End of a String\n",
    "\n",
    "\n",
    "- `[]`      -- Matches Characters in brackets\n",
    "- `[^ ]`    -- Matches Characters NOT in brackets\n",
    "- `|`       -- Either Or\n",
    "- `( )`     -- Group\n",
    "\n",
    "Quantifiers:\n",
    "- `*`       -- 0 or More\n",
    "- `+`       -- 1 or More\n",
    "- `?`       -- 0 or One\n",
    "- `{3}`     -- Exact Number\n",
    "- `{3,4}`   -- Range of Numbers (Minimum, Maximum)"
   ]
  },
  {
   "cell_type": "markdown",
   "metadata": {},
   "source": [
    "## Python re Module\n",
    "\n"
   ]
  },
  {
   "cell_type": "markdown",
   "metadata": {},
   "source": [
    "## Demonstration of Regex with re Module"
   ]
  },
  {
   "cell_type": "code",
   "execution_count": null,
   "metadata": {},
   "outputs": [],
   "source": [
    "\"\"\" Sample codes\n",
    "abcdefghijklmnopqurtuvwxyz\n",
    "ABCDEFGHIJKLMNOPQRSTUVWXYZ\n",
    "1234567890\n",
    "\n",
    "Ha HaHa\n",
    "\n",
    "MetaCharacters (Need to be escaped):\n",
    ".[{()\\^$|?*+\n",
    "\n",
    "coreyms.com\n",
    "\n",
    "321-555-4321\n",
    "123.555.1234\n",
    "\n",
    "Mr. Schafer\n",
    "Mr Smith\n",
    "Ms Davis\n",
    "Mrs. Robinson\n",
    "Mr. T\n",
    "\"\"\""
   ]
  },
  {
   "cell_type": "markdown",
   "metadata": {},
   "source": [
    "### Reference\n",
    "\n",
    "1. [Regular Expressions (Regex) Tutorial: How to Match Any Pattern of Text](https://www.youtube.com/watch?v=sa-TUpSx1JA)"
   ]
  }
 ],
 "metadata": {
  "kernelspec": {
   "display_name": "Python 3",
   "language": "python",
   "name": "python3"
  },
  "language_info": {
   "codemirror_mode": {
    "name": "ipython",
    "version": 3
   },
   "file_extension": ".py",
   "mimetype": "text/x-python",
   "name": "python",
   "nbconvert_exporter": "python",
   "pygments_lexer": "ipython3",
   "version": "3.6.4"
  }
 },
 "nbformat": 4,
 "nbformat_minor": 2
}
