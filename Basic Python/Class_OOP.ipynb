{
 "cells": [
  {
   "cell_type": "markdown",
   "metadata": {},
   "source": [
    "# Basic Python\n",
    "\n",
    "## Class (Object-oriented Programming)\n",
    "\n",
    "### Fundamental Idea of Class\n",
    "\n",
    "A **blue print** contains some information, and we can create multiple objects or instances from a class with same properties (methods or attributes).\n",
    "\n",
    "<img src=\"../img/class_blue_print.png\" alt=\"title\" >\n",
    "\n",
    "Target: save time from repeating create instance with same content or function\n",
    "\n",
    "Based on the concept 'object', a class may contain data as 'attribute', and also function as 'method'.\n",
    "\n",
    "Reference:\n",
    "1. [Python OOP Tutorial 1: Classes and Instances](https://www.youtube.com/watch?v=ZDa-Z5JzLYM) and so following vedios\n",
    "2. [Programming Foundations with Python - Udacity](https://cn.udacity.com/course/programming-foundations-with-python--ud036)"
   ]
  },
  {
   "cell_type": "code",
   "execution_count": 29,
   "metadata": {},
   "outputs": [],
   "source": [
    "## Create a class object\n",
    "\n",
    "class Employee:\n",
    "\n",
    "    # create attribute (data within class object)\n",
    "    def __init__(self, first, last, pay):\n",
    "        self.fname = first\n",
    "        self.lname = last\n",
    "        self.pay = pay\n",
    "        self.email = first + '.' + last + '@company.com'\n",
    "    \n",
    "    # create method (function within class object)\n",
    "    def fullname(self):\n",
    "        return '{} {}'.format(self.fname, self.lname)"
   ]
  },
  {
   "cell_type": "code",
   "execution_count": 2,
   "metadata": {},
   "outputs": [
    {
     "data": {
      "text/plain": [
       "'Yuet.Yeung@company.com'"
      ]
     },
     "execution_count": 2,
     "metadata": {},
     "output_type": "execute_result"
    }
   ],
   "source": [
    "## Output a attribute\n",
    "\n",
    "emp_1 = Employee('Yuet', 'Yeung', 1000)\n",
    "\n",
    "emp_1.email"
   ]
  },
  {
   "cell_type": "code",
   "execution_count": 3,
   "metadata": {},
   "outputs": [
    {
     "name": "stdout",
     "output_type": "stream",
     "text": [
      "Yuet Yeung\n",
      "Yuet Yeung\n"
     ]
    }
   ],
   "source": [
    "## Output the outcome of method\n",
    "\n",
    "print (emp_1.fullname())\n",
    "\n",
    "# same as passing an instance to the method in class \n",
    "print (Employee.fullname(emp_1))  # actually it is passing self in instance emp_1 into method"
   ]
  },
  {
   "cell_type": "markdown",
   "metadata": {},
   "source": [
    "### Class Variable and Instance Variable\n",
    "\n",
    "**Class variable** is global variable defined in class, which can be understood as default value.\n",
    "\n",
    "**Instance variable** is manually defined only for particular instance, being effective on that instance."
   ]
  },
  {
   "cell_type": "code",
   "execution_count": 4,
   "metadata": {},
   "outputs": [],
   "source": [
    "class Employee:\n",
    "\n",
    "    # create class variable\n",
    "    num_of_emps = 0\n",
    "    raise_amount = 1.04\n",
    "    \n",
    "    # create attribute (data within class object)\n",
    "    def __init__(self, first, last, pay):\n",
    "        self.fname = first\n",
    "        self.lname = last\n",
    "        self.pay = pay\n",
    "        self.email = first + '.' + last + '@company.com'\n",
    "        \n",
    "        Employee.num_of_emps += 1  # sum of created employees\n",
    "    \n",
    "    # create method (function within class object)\n",
    "    def fullname(self):\n",
    "        return '{} {}'.format(self.fname, self.lname)\n",
    "    \n",
    "    # create a method using variable\n",
    "    def apply_raise(self):\n",
    "        self.pay = int(self.pay * self.raise_amount)"
   ]
  },
  {
   "cell_type": "code",
   "execution_count": 5,
   "metadata": {},
   "outputs": [
    {
     "name": "stdout",
     "output_type": "stream",
     "text": [
      "{'__module__': '__main__', 'num_of_emps': 0, 'raise_amount': 1.04, '__init__': <function Employee.__init__ at 0x0000014E8A1D4B70>, 'fullname': <function Employee.fullname at 0x0000014E8A1D4AE8>, 'apply_raise': <function Employee.apply_raise at 0x0000014E8A1D4A60>, '__dict__': <attribute '__dict__' of 'Employee' objects>, '__weakref__': <attribute '__weakref__' of 'Employee' objects>, '__doc__': None}\n",
      "{'fname': 'Yuet', 'lname': 'Yeung', 'pay': 1000, 'email': 'Yuet.Yeung@company.com'}\n"
     ]
    }
   ],
   "source": [
    "## Check the content of class itself and instance\n",
    "\n",
    "print (Employee.__dict__)  # all class variables included\n",
    "\n",
    "emp_1 = Employee('Yuet', 'Yeung', 1000)\n",
    "print (emp_1.__dict__)  # only include init attributes, no variable"
   ]
  },
  {
   "cell_type": "code",
   "execution_count": 6,
   "metadata": {},
   "outputs": [
    {
     "name": "stdout",
     "output_type": "stream",
     "text": [
      "Variable in Employee class: 1\n",
      "No variable in instance but request from Employee class: 1\n"
     ]
    }
   ],
   "source": [
    "## Check number of employee created\n",
    "\n",
    "print ('Variable in Employee class: ' + str(Employee.num_of_emps))  # existed in Employee class\n",
    "\n",
    "# from above, there is no num_of_emps within emp_1\n",
    "# therefore, this command requests and output the info from Employee class\n",
    "print ('No variable in instance but request from Employee class: ' + str(emp_1.num_of_emps))  "
   ]
  },
  {
   "cell_type": "code",
   "execution_count": 7,
   "metadata": {},
   "outputs": [
    {
     "name": "stdout",
     "output_type": "stream",
     "text": [
      "Variable updated in Employee class: 1.05\n",
      "Variable updated in emp_1 instance: 1.06\n",
      "{'fname': 'Yuet', 'lname': 'Yeung', 'pay': 1000, 'email': 'Yuet.Yeung@company.com', 'raise_amount': 1.06}\n"
     ]
    }
   ],
   "source": [
    "## Update variable\n",
    "\n",
    "# update variable in Employee class\n",
    "Employee.raise_amount = 1.05\n",
    "print ('Variable updated in Employee class: ' + str(Employee.raise_amount))\n",
    "\n",
    "# update variable specifically for an instance\n",
    "# actually add in a instance variable with same name as class variable\n",
    "emp_1.raise_amount = 1.06\n",
    "print ('Variable updated in emp_1 instance: ' + str(emp_1.raise_amount))\n",
    "print (emp_1.__dict__)"
   ]
  },
  {
   "cell_type": "code",
   "execution_count": 8,
   "metadata": {},
   "outputs": [
    {
     "name": "stdout",
     "output_type": "stream",
     "text": [
      "raised payment as 1060 by rate 1.06\n"
     ]
    }
   ],
   "source": [
    "## Try to raise payment\n",
    "emp_1.apply_raise()\n",
    "print ('raised payment as ' + str(emp_1.pay) + ' by rate ' + str(emp_1.raise_amount))  # follow the raise_amount in instance\n",
    "\n",
    "# if there is no raise_amount variable in instance, command will request this variable from Employee class"
   ]
  },
  {
   "cell_type": "markdown",
   "metadata": {},
   "source": [
    "### Regular Method / Class Method / Static Method\n",
    "\n",
    "**Regular Method** passes instance (self) as first argument, and operates with self in method.\n",
    "\n",
    "**Class Method** passes class (cls) as first argument, and operates with cls in method.\n",
    "\n",
    "**Static Method** do not operate with instance or class, and just like a function itself with logically connection with the class."
   ]
  },
  {
   "cell_type": "code",
   "execution_count": 9,
   "metadata": {},
   "outputs": [],
   "source": [
    "class Employee:\n",
    "\n",
    "    # create class variable\n",
    "    num_of_emps = 0\n",
    "    raise_amount = 1.04\n",
    "    \n",
    "    # create attribute (data within class object)\n",
    "    def __init__(self, first, last, pay):\n",
    "        self.fname = first\n",
    "        self.lname = last\n",
    "        self.pay = pay\n",
    "        self.email = first + '.' + last + '@company.com'\n",
    "        \n",
    "        Employee.num_of_emps += 1  # sum of created employees\n",
    "    \n",
    "    # create method (function within class object)\n",
    "    # regular function\n",
    "    def fullname(self):\n",
    "        return '{} {}'.format(self.fname, self.lname)  # operate with instance\n",
    "    \n",
    "    # create a method using variable\n",
    "    # regular function\n",
    "    def apply_raise(self):\n",
    "        self.pay = int(self.pay * self.raise_amount)  # operate with instance\n",
    "        \n",
    "    # create class function\n",
    "    @classmethod  # decorator\n",
    "    def set_raise_amt(cls, amount):\n",
    "        cls.raise_amount = amount  # operate with class\n",
    "        \n",
    "    # create class function as alternative constructor\n",
    "    @classmethod\n",
    "    def from_string(cls, emp_str):\n",
    "        first, last, pay = emp_str.split('-')\n",
    "        return cls(first, last, pay)  # operate with class\n",
    "    \n",
    "    # create static function\n",
    "    @staticmethod\n",
    "    def is_workday(day):\n",
    "        if day.weekday()==5 or day.weekday()==6:\n",
    "            return False\n",
    "        return True"
   ]
  },
  {
   "cell_type": "code",
   "execution_count": 10,
   "metadata": {},
   "outputs": [
    {
     "name": "stdout",
     "output_type": "stream",
     "text": [
      "1.06\n"
     ]
    }
   ],
   "source": [
    "## Update raise rate by classmethod\n",
    "\n",
    "Employee.set_raise_amt(1.06)\n",
    "print (Employee.raise_amount)\n",
    "\n",
    "# Exactly the same result as update class variable directly: Employee.raise_amount = 1.06"
   ]
  },
  {
   "cell_type": "code",
   "execution_count": 11,
   "metadata": {},
   "outputs": [
    {
     "name": "stdout",
     "output_type": "stream",
     "text": [
      "Wen.Huishan@company.com\n",
      "2000\n"
     ]
    }
   ],
   "source": [
    "## Create employee info from input with dash by classmethod\n",
    "\n",
    "emp_2 = Employee.from_string('Wen-Huishan-2000')\n",
    "print (emp_2.email)\n",
    "print (emp_2.pay)"
   ]
  },
  {
   "cell_type": "code",
   "execution_count": 12,
   "metadata": {},
   "outputs": [
    {
     "data": {
      "text/plain": [
       "True"
      ]
     },
     "execution_count": 12,
     "metadata": {},
     "output_type": "execute_result"
    }
   ],
   "source": [
    "## Judge a day is work day or not by staticmethod\n",
    "\n",
    "import datetime\n",
    "my_date = datetime.date(2018, 2, 22)\n",
    "\n",
    "Employee.is_workday(my_date)"
   ]
  },
  {
   "cell_type": "markdown",
   "metadata": {},
   "source": [
    "### Subclasses (Inheritance)\n",
    "\n",
    "Subclass is topping upon parent class.\n",
    "\n",
    "The inheritance relationship can be understood by `help(subclass_name)` function."
   ]
  },
  {
   "cell_type": "code",
   "execution_count": 13,
   "metadata": {},
   "outputs": [],
   "source": [
    "class Employee:\n",
    "\n",
    "    # create class variable\n",
    "    num_of_emps = 0\n",
    "    raise_amount = 1.04\n",
    "    \n",
    "    # create attribute (data within class object)\n",
    "    def __init__(self, first, last, pay):\n",
    "        self.fname = first\n",
    "        self.lname = last\n",
    "        self.pay = pay\n",
    "        self.email = first + '.' + last + '@company.com'\n",
    "        \n",
    "        Employee.num_of_emps += 1  # sum of created employees\n",
    "    \n",
    "    # create method (function within class object)\n",
    "    # regular function\n",
    "    def fullname(self):\n",
    "        return '{} {}'.format(self.fname, self.lname)  # operate with instance\n",
    "    \n",
    "    # create a method using variable\n",
    "    # regular function\n",
    "    def apply_raise(self):\n",
    "        self.pay = int(self.pay * self.raise_amount)  # operate with instance\n",
    "        \n",
    "    # create class function\n",
    "    @classmethod  # decorator\n",
    "    def set_raise_amt(cls, amount):\n",
    "        cls.raise_amount = amount  # operate with class\n",
    "        \n",
    "    # create class function as alternative constructor\n",
    "    @classmethod\n",
    "    def from_string(cls, emp_str):\n",
    "        first, last, pay = emp_str.split('-')\n",
    "        return cls(first, last, pay)  # operate with class\n",
    "    \n",
    "    # create static function\n",
    "    @staticmethod\n",
    "    def is_workday(day):\n",
    "        if day.weekday()==5 or day.weekday()==6:\n",
    "            return False\n",
    "        return True"
   ]
  },
  {
   "cell_type": "code",
   "execution_count": 14,
   "metadata": {},
   "outputs": [],
   "source": [
    "## Create subclass inheriting from Employee\n",
    "\n",
    "class Developer(Employee):\n",
    "    \n",
    "    # specific raise amount for developer\n",
    "    raise_amount = 1.10\n",
    "    \n",
    "    # add in programming language as init info\n",
    "    def __init__(self, first, last, pay, prog_lang):\n",
    "        super().__init__(first, last, pay)  # use parent init for the first three argument\n",
    "        # can also use Employee.__init__(self, first, last, pay)\n",
    "        \n",
    "        self.prog_lang = prog_lang  # add in additional info    "
   ]
  },
  {
   "cell_type": "code",
   "execution_count": 15,
   "metadata": {},
   "outputs": [
    {
     "name": "stdout",
     "output_type": "stream",
     "text": [
      "Help on class Developer in module __main__:\n",
      "\n",
      "class Developer(Employee)\n",
      " |  Method resolution order:\n",
      " |      Developer\n",
      " |      Employee\n",
      " |      builtins.object\n",
      " |  \n",
      " |  Methods defined here:\n",
      " |  \n",
      " |  __init__(self, first, last, pay, prog_lang)\n",
      " |      Initialize self.  See help(type(self)) for accurate signature.\n",
      " |  \n",
      " |  ----------------------------------------------------------------------\n",
      " |  Data and other attributes defined here:\n",
      " |  \n",
      " |  raise_amount = 1.1\n",
      " |  \n",
      " |  ----------------------------------------------------------------------\n",
      " |  Methods inherited from Employee:\n",
      " |  \n",
      " |  apply_raise(self)\n",
      " |      # create a method using variable\n",
      " |      # regular function\n",
      " |  \n",
      " |  fullname(self)\n",
      " |      # create method (function within class object)\n",
      " |      # regular function\n",
      " |  \n",
      " |  ----------------------------------------------------------------------\n",
      " |  Class methods inherited from Employee:\n",
      " |  \n",
      " |  from_string(emp_str) from builtins.type\n",
      " |      # create class function as alternative constructor\n",
      " |  \n",
      " |  set_raise_amt(amount) from builtins.type\n",
      " |      # create class function\n",
      " |  \n",
      " |  ----------------------------------------------------------------------\n",
      " |  Static methods inherited from Employee:\n",
      " |  \n",
      " |  is_workday(day)\n",
      " |      # create static function\n",
      " |  \n",
      " |  ----------------------------------------------------------------------\n",
      " |  Data descriptors inherited from Employee:\n",
      " |  \n",
      " |  __dict__\n",
      " |      dictionary for instance variables (if defined)\n",
      " |  \n",
      " |  __weakref__\n",
      " |      list of weak references to the object (if defined)\n",
      " |  \n",
      " |  ----------------------------------------------------------------------\n",
      " |  Data and other attributes inherited from Employee:\n",
      " |  \n",
      " |  num_of_emps = 0\n",
      "\n",
      "None\n"
     ]
    }
   ],
   "source": [
    "## Understand the method resultion order (chain of inheritance)\n",
    "\n",
    "print (help(Developer))"
   ]
  },
  {
   "cell_type": "code",
   "execution_count": 16,
   "metadata": {},
   "outputs": [
    {
     "name": "stdout",
     "output_type": "stream",
     "text": [
      "Shao.Guodong@company.com\n",
      "Zhang.Jian@company.com\n"
     ]
    }
   ],
   "source": [
    "## Create a new developer with programming language information\n",
    "\n",
    "dev_1 = Developer('Shao', 'Guodong', 3000, 'Matlab')\n",
    "dev_2 = Developer('Zhang', 'Jian', '3000', 'Matlab')\n",
    "\n",
    "print (dev_1.email)\n",
    "print (dev_2.email)"
   ]
  },
  {
   "cell_type": "code",
   "execution_count": 17,
   "metadata": {},
   "outputs": [],
   "source": [
    "## Create another subclass inheriting from Employee\n",
    "\n",
    "class Manager(Employee):\n",
    "    \n",
    "    def __init__(self, first, last, pay, employees=None):\n",
    "        super().__init__(first, last, pay)\n",
    "        if employees is None:\n",
    "            self.employees = []\n",
    "        else:\n",
    "            self.employees = employees\n",
    "    \n",
    "    def add_emp(self, emp):\n",
    "        if emp not in self.employees:\n",
    "            self.employees.append(emp)\n",
    "    \n",
    "    def remove_emp(self, emp):\n",
    "        if emp in self.employees:\n",
    "            self.employees.remove(emp)\n",
    "            \n",
    "    def print_emp(self):\n",
    "        for emp in self.employees:\n",
    "            print('-->', emp.fullname())  # here emp will be an instance of Employee class from input"
   ]
  },
  {
   "cell_type": "code",
   "execution_count": 26,
   "metadata": {},
   "outputs": [
    {
     "name": "stdout",
     "output_type": "stream",
     "text": [
      "--> Shao Guodong\n",
      "--> Shao Guodong\n",
      "--> Zhang Jian\n"
     ]
    }
   ],
   "source": [
    "## Create a manager\n",
    "\n",
    "mgr_1 = Manager('Chandra', 'Verseka', 4000, [dev_1])\n",
    "mgr_1.print_emp()\n",
    "\n",
    "# add in employee under him\n",
    "mgr_1.add_emp(dev_2)\n",
    "mgr_1.print_emp()"
   ]
  },
  {
   "cell_type": "code",
   "execution_count": 27,
   "metadata": {},
   "outputs": [
    {
     "data": {
      "text/plain": [
       "True"
      ]
     },
     "execution_count": 27,
     "metadata": {},
     "output_type": "execute_result"
    },
    {
     "data": {
      "text/plain": [
       "False"
      ]
     },
     "execution_count": 27,
     "metadata": {},
     "output_type": "execute_result"
    }
   ],
   "source": [
    "## Verify whether an object is instance of an class\n",
    "\n",
    "isinstance(mgr_1, Employee)\n",
    "\n",
    "isinstance(mgr_1, Developer)"
   ]
  },
  {
   "cell_type": "code",
   "execution_count": 28,
   "metadata": {},
   "outputs": [
    {
     "data": {
      "text/plain": [
       "True"
      ]
     },
     "execution_count": 28,
     "metadata": {},
     "output_type": "execute_result"
    },
    {
     "data": {
      "text/plain": [
       "False"
      ]
     },
     "execution_count": 28,
     "metadata": {},
     "output_type": "execute_result"
    }
   ],
   "source": [
    "## Verify whether a class is a sub-class of another class\n",
    "\n",
    "issubclass(Developer, Employee)\n",
    "\n",
    "issubclass(Manager, Developer)"
   ]
  },
  {
   "cell_type": "markdown",
   "metadata": {},
   "source": [
    "### Special Method (Magic / Dunder)\n",
    "\n",
    "A method starts and ends with double underscore."
   ]
  },
  {
   "cell_type": "code",
   "execution_count": 35,
   "metadata": {},
   "outputs": [],
   "source": [
    "class Employee:\n",
    "\n",
    "    # create class variable\n",
    "    num_of_emps = 0\n",
    "    raise_amount = 1.04\n",
    "    \n",
    "    # create attribute (data within class object)\n",
    "    def __init__(self, first, last, pay):\n",
    "        self.fname = first\n",
    "        self.lname = last\n",
    "        self.pay = pay\n",
    "        self.email = first + '.' + last + '@company.com'\n",
    "        \n",
    "        Employee.num_of_emps += 1  # sum of created employees\n",
    "    \n",
    "    # create method (function within class object)\n",
    "    # regular function\n",
    "    def fullname(self):\n",
    "        return '{} {}'.format(self.fname, self.lname)  # operate with instance\n",
    "    \n",
    "    # create special method for ambiguous print output\n",
    "    # you can define anything here, but __repr__ used for development purpose in convention\n",
    "    def __repr__(self):\n",
    "        return \"Employee('{}', '{}', '{}')\".format(self.fname, self.lname, self.pay)\n",
    "    \n",
    "    # create special method for readable print output\n",
    "    def __str__(self):\n",
    "        return '{} - {}'.format(self.fullname(), self.email)\n",
    "\n",
    "    # create special method for adding two employees' pay\n",
    "    def __add__(self, other):\n",
    "        return self.pay + other.pay"
   ]
  },
  {
   "cell_type": "code",
   "execution_count": 41,
   "metadata": {},
   "outputs": [
    {
     "name": "stdout",
     "output_type": "stream",
     "text": [
      "Yuet Yeung - Yuet.Yeung@company.com\n",
      "Yuet Yeung - Yuet.Yeung@company.com\n",
      "Employee('Yuet', 'Yeung', '1000')\n"
     ]
    }
   ],
   "source": [
    "## Print out Employee, which will be something meaningful instead of object type\n",
    "\n",
    "emp_1 = Employee('Yuet', 'Yeung', 1000)\n",
    "print (emp_1)\n",
    "print (emp_1.__str__())\n",
    "print (emp_1.__repr__())"
   ]
  },
  {
   "cell_type": "code",
   "execution_count": 48,
   "metadata": {},
   "outputs": [
    {
     "name": "stdout",
     "output_type": "stream",
     "text": [
      "3000\n",
      "3000\n",
      "3\n",
      "3\n"
     ]
    }
   ],
   "source": [
    "## Adding two employees' pay\n",
    "\n",
    "emp_2 = Employee('Wen', 'Huishan', 2000)\n",
    "print (emp_1 + emp_2)  # euqally\n",
    "print (Employee.__add__(emp_1, emp_2))\n",
    "\n",
    "# actually for normal add operation of int, it works also in __add__ way\n",
    "print (1+2)  # equally\n",
    "print (int.__add__(1,2))"
   ]
  },
  {
   "cell_type": "markdown",
   "metadata": {},
   "source": [
    "### Property Decoractors -- Getters, Setters and Deleters\n",
    "\n",
    "Using method as an attribute."
   ]
  },
  {
   "cell_type": "code",
   "execution_count": 49,
   "metadata": {},
   "outputs": [],
   "source": [
    "## Parse the orignial class\n",
    "\n",
    "class Employee:\n",
    "   \n",
    "    # create attribute (data within class object)\n",
    "    def __init__(self, first, last, pay):\n",
    "        self.first = first\n",
    "        self.last = last\n",
    "        self.pay = pay\n",
    "        self.email = first + '.' + last + '@company.com'\n",
    "        \n",
    "    # create method (function within class object)\n",
    "    # regular function\n",
    "    def fullname(self):\n",
    "        return '{} {}'.format(self.first, self.last)  # operate with instance"
   ]
  },
  {
   "cell_type": "code",
   "execution_count": 56,
   "metadata": {},
   "outputs": [
    {
     "name": "stdout",
     "output_type": "stream",
     "text": [
      "Yuet.Yeung@company.com\n",
      "Yuet Yang\n"
     ]
    }
   ],
   "source": [
    "## Illustrate the necessary of decoractors\n",
    "\n",
    "emp_1 = Employee('Yuet', 'Yeung', 1000)\n",
    "\n",
    "emp_1.last = 'Yang'  # update self.last to 'Yang'\n",
    "print (emp_1.email)  # no change on email due to already fixed at the time the instance was created\n",
    "print (emp_1.fullname())  # changed due to getting from self.last while operating this regular method"
   ]
  },
  {
   "cell_type": "code",
   "execution_count": 71,
   "metadata": {},
   "outputs": [],
   "source": [
    "## Add in decoractors\n",
    "\n",
    "class Employee:\n",
    "   \n",
    "    # create attribute (data within class object)\n",
    "    def __init__(self, first, last, pay):\n",
    "        self.first = first\n",
    "        self.last = last\n",
    "        self.pay = pay\n",
    "\n",
    "    # add in property decoractor to use method as attribute\n",
    "    @property\n",
    "    def email(self):\n",
    "        return '{}.{}@company.com'.format(self.first, self.last)\n",
    "        \n",
    "    # also change regular method to property getter\n",
    "    @property\n",
    "    def fullname(self):\n",
    "        return '{} {}'.format(self.first, self.last)  # operate with instance\n",
    "    \n",
    "    # create setter of fullname\n",
    "    @fullname.setter  # fullname is already set as property, so here can define its setter function\n",
    "    def fullname(self, name):\n",
    "        first, last = name.split(' ')\n",
    "        self.first = first\n",
    "        self.last = last\n",
    "        \n",
    "    # create deleter of fullname\n",
    "    @fullname.deleter\n",
    "    def fullname(self):\n",
    "        self.first = None\n",
    "        self.last = None\n",
    "        print ('Delete Name!')"
   ]
  },
  {
   "cell_type": "code",
   "execution_count": 72,
   "metadata": {},
   "outputs": [
    {
     "name": "stdout",
     "output_type": "stream",
     "text": [
      "Yuet.Yang@company.com\n",
      "Yuet Yang\n"
     ]
    }
   ],
   "source": [
    "## Exactly the same as above code, and it works\n",
    "\n",
    "emp_1 = Employee('Yuet', 'Yeung', 1000)\n",
    "\n",
    "emp_1.last = 'Yang'  # update self.last to 'Yang'\n",
    "print (emp_1.email)  # property decoractor makes method to be used as attribute\n",
    "print (emp_1.fullname)  # also as property"
   ]
  },
  {
   "cell_type": "code",
   "execution_count": 73,
   "metadata": {},
   "outputs": [
    {
     "name": "stdout",
     "output_type": "stream",
     "text": [
      "Yue.Yang@company.com\n",
      "Yue Yang\n"
     ]
    }
   ],
   "source": [
    "## Use fullname setter to update the attribute\n",
    "\n",
    "emp_1.fullname = 'Yue Yang'\n",
    "print (emp_1.email)\n",
    "print (emp_1.fullname)"
   ]
  },
  {
   "cell_type": "code",
   "execution_count": 74,
   "metadata": {},
   "outputs": [
    {
     "name": "stdout",
     "output_type": "stream",
     "text": [
      "Delete Name!\n",
      "None.None@company.com\n",
      "None None\n"
     ]
    }
   ],
   "source": [
    "## Use fullname deleter\n",
    "\n",
    "del emp_1.fullname\n",
    "print (emp_1.email)\n",
    "print (emp_1.fullname)"
   ]
  }
 ],
 "metadata": {
  "kernelspec": {
   "display_name": "Python 3",
   "language": "python",
   "name": "python3"
  },
  "language_info": {
   "codemirror_mode": {
    "name": "ipython",
    "version": 3
   },
   "file_extension": ".py",
   "mimetype": "text/x-python",
   "name": "python",
   "nbconvert_exporter": "python",
   "pygments_lexer": "ipython3",
   "version": "3.6.4"
  }
 },
 "nbformat": 4,
 "nbformat_minor": 2
}
