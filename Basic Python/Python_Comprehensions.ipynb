{
 "cells": [
  {
   "cell_type": "markdown",
   "metadata": {},
   "source": [
    "# Python Comprehensions\n",
    "\n",
    "Comprehensions is a easy way to implement `for` loop in only one-line codes. It can be used for:\n",
    "\n",
    "1. List\n",
    "2. Dictionary\n",
    "3. Set\n",
    "4. Generator\n",
    "\n",
    "Here is going to demonstrate it by comparing with normal `for` loop approach."
   ]
  },
  {
   "cell_type": "markdown",
   "metadata": {},
   "source": [
    "## List"
   ]
  },
  {
   "cell_type": "code",
   "execution_count": null,
   "metadata": {},
   "outputs": [],
   "source": [
    "nums = [1,2,3,4,5,6,7,8,9,10]"
   ]
  },
  {
   "cell_type": "code",
   "execution_count": null,
   "metadata": {},
   "outputs": [],
   "source": [
    "### I want 'n' for each 'n' in nums\n",
    "# Standard for loop\n",
    "my_list = []\n",
    "for n in nums:\n",
    "    my_list.append(n)\n",
    "print my_list\n",
    "\n",
    "# Comprehensions\n",
    "print [n for n in nums]"
   ]
  },
  {
   "cell_type": "code",
   "execution_count": null,
   "metadata": {},
   "outputs": [],
   "source": [
    "### I want 'n*n' for each 'n' in nums\n",
    "# Standard for loop\n",
    "my_list = []\n",
    "for n in nums:\n",
    "    my_list.append(n*n)\n",
    "print my_list\n",
    "\n",
    "# map + lambda\n",
    "my_list = map(lambda n: n*n, nums)\n",
    "print my_list\n",
    "\n",
    "# Comprehensions\n",
    "print [n*n for n in nums]"
   ]
  },
  {
   "cell_type": "code",
   "execution_count": null,
   "metadata": {},
   "outputs": [],
   "source": [
    "### I want 'n' for each 'n' in nums if 'n' is even\n",
    "# Standard for loop\n",
    "my_list = []\n",
    "for n in nums:\n",
    "    if n%2 == 0:\n",
    "    my_list.append(n)\n",
    "print my_list\n",
    "\n",
    "# filter + lambda\n",
    "my_list = filter(lambda n: n%2 == 0, nums)\n",
    "print my_list\n",
    "\n",
    "# Comprehensions\n",
    "print [n for n in nums if n%2 == 0]"
   ]
  },
  {
   "cell_type": "code",
   "execution_count": null,
   "metadata": {},
   "outputs": [],
   "source": [
    "### I want a (letter, num) pair for each letter in 'abcd' and each number in '0123'\n",
    "# Standard for loop\n",
    "my_list = []\n",
    "for letter in 'abcd':\n",
    "    for num in range(4):\n",
    "    my_list.append((letter,num))\n",
    "print my_list\n",
    "\n",
    "# Comprehensions\n",
    "print [(letter, num) for letter in 'abcd' for num in range(4)]"
   ]
  },
  {
   "cell_type": "markdown",
   "metadata": {},
   "source": [
    "## Dictionary"
   ]
  },
  {
   "cell_type": "code",
   "execution_count": null,
   "metadata": {},
   "outputs": [],
   "source": [
    "names = ['Bruce', 'Clark', 'Peter', 'Logan', 'Wade']\n",
    "heros = ['Batman', 'Superman', 'Spiderman', 'Wolverine', 'Deadpool']\n",
    "print zip(names, heros)"
   ]
  },
  {
   "cell_type": "code",
   "execution_count": null,
   "metadata": {},
   "outputs": [],
   "source": [
    "### I want a dict{'name': 'hero'} for each name,hero in zip(names, heros)\n",
    "# Standard for loop\n",
    "my_dict = {}\n",
    "for name, hero in zip(names, heros):\n",
    "    my_dict[name] = hero\n",
    "print my_dict\n",
    "\n",
    "# Comprehensions\n",
    "print {name:hero for name, hero in zip(names, heros)}"
   ]
  },
  {
   "cell_type": "code",
   "execution_count": null,
   "metadata": {},
   "outputs": [],
   "source": [
    "### Above but name not equal to Peter\n",
    "# Comprehensions\n",
    "print {name:hero for name, hero in zip(names, heros) if name != 'Peter'}"
   ]
  },
  {
   "cell_type": "markdown",
   "metadata": {},
   "source": [
    "## Set"
   ]
  },
  {
   "cell_type": "code",
   "execution_count": null,
   "metadata": {},
   "outputs": [],
   "source": [
    "nums = [1,1,2,1,3,4,3,4,5,5,6,7,8,7,9,9]"
   ]
  },
  {
   "cell_type": "code",
   "execution_count": null,
   "metadata": {},
   "outputs": [],
   "source": [
    "# Standard for loop\n",
    "my_set = set()\n",
    "for n in nums:\n",
    "    my_set.add(n)\n",
    "print my_set\n",
    "\n",
    "# Comprehensions\n",
    "print {n for n in nums}"
   ]
  },
  {
   "cell_type": "markdown",
   "metadata": {},
   "source": [
    "## Generator"
   ]
  },
  {
   "cell_type": "code",
   "execution_count": null,
   "metadata": {},
   "outputs": [],
   "source": [
    "nums = [1,2,3,4,5,6,7,8,9,10]"
   ]
  },
  {
   "cell_type": "code",
   "execution_count": null,
   "metadata": {},
   "outputs": [],
   "source": [
    "### I want to yield 'n*n' for each 'n' in nums\n",
    "# Standard for loop\n",
    "def gen_func(nums):\n",
    "    for n in nums:\n",
    "        yield n*n\n",
    "\n",
    "my_gen = gen_func(nums)\n",
    "\n",
    "for i in my_gen:\n",
    "    print i\n",
    "    \n",
    "# Comprehensions\n",
    "my_gen = (n*n for n in nums)\n",
    "\n",
    "for i in my_gen:\n",
    "    print i"
   ]
  },
  {
   "cell_type": "markdown",
   "metadata": {},
   "source": [
    "### Reference\n",
    "- [Python Tutorial: Comprehensions - How they work and why you should be using them](https://www.youtube.com/watch?v=3dt4OGnU5sM)"
   ]
  }
 ],
 "metadata": {
  "kernelspec": {
   "display_name": "Python 3",
   "language": "python",
   "name": "python3"
  },
  "language_info": {
   "codemirror_mode": {
    "name": "ipython",
    "version": 3
   },
   "file_extension": ".py",
   "mimetype": "text/x-python",
   "name": "python",
   "nbconvert_exporter": "python",
   "pygments_lexer": "ipython3",
   "version": "3.6.4"
  }
 },
 "nbformat": 4,
 "nbformat_minor": 2
}
