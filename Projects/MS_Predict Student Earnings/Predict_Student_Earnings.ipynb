{
 "cells": [
  {
   "cell_type": "markdown",
   "metadata": {},
   "source": [
    "# Predict Student Earnings -- Microsoft Data Science Capstone Challenge\n",
    "\n",
    "## Information\n",
    "\n",
    "- [Homepage of Competition](https://datasciencecapstone.org/competitions/2/student-earnings/page/5/)\n",
    "- [Problem Description](https://datasciencecapstone.org/competitions/2/student-earnings/page/6/)\n",
    "- [LeaderBoard of Public Score](https://datasciencecapstone.org/competitions/2/student-earnings/leaderboard/)\n",
    "\n",
    "## General Idea of Solution\n",
    "\n",
    "1. Minimum data wrangling\n",
    "2. Single decision tree regressor as benchmark\n",
    "3. Iteration for further data wrangling tactic, feature engineering and single model selection\n",
    "4. Stacking models"
   ]
  },
  {
   "cell_type": "markdown",
   "metadata": {},
   "source": [
    "## Step 1: Minimum Data Wrangling"
   ]
  },
  {
   "cell_type": "markdown",
   "metadata": {},
   "source": [
    "### 1.1 Gathering / Importing"
   ]
  },
  {
   "cell_type": "code",
   "execution_count": 2,
   "metadata": {},
   "outputs": [],
   "source": [
    "%matplotlib inline\n",
    "\n",
    "import pandas as pd\n",
    "import numpy as np\n",
    "import seaborn as sns"
   ]
  },
  {
   "cell_type": "code",
   "execution_count": 3,
   "metadata": {},
   "outputs": [],
   "source": [
    "X_train = pd.read_csv('train_values.csv', header = 0, index_col = 0)\n",
    "y_train = pd.read_csv('train_labels.csv', header = 0, index_col = 0)\n",
    "X_test = pd.read_csv('test_values.csv', header = 0, index_col = 0)"
   ]
  },
  {
   "cell_type": "markdown",
   "metadata": {},
   "source": [
    "### 1.2 Assessing"
   ]
  },
  {
   "cell_type": "code",
   "execution_count": 58,
   "metadata": {},
   "outputs": [
    {
     "name": "stdout",
     "output_type": "stream",
     "text": [
      "<class 'pandas.core.frame.DataFrame'>\n",
      "Int64Index: 26299 entries, 0 to 26298\n",
      "Columns: 297 entries, academics__program_assoc_agriculture to student__size\n",
      "dtypes: float64(287), int64(1), object(9)\n",
      "memory usage: 59.8+ MB\n"
     ]
    }
   ],
   "source": [
    "# Concatenate X_train and X_test\n",
    "X_conc = pd.concat([X_train, X_test])\n",
    "X_conc.info()"
   ]
  },
  {
   "cell_type": "code",
   "execution_count": 59,
   "metadata": {},
   "outputs": [
    {
     "data": {
      "text/plain": [
       "float64    287\n",
       "object       9\n",
       "int64        1\n",
       "dtype: int64"
      ]
     },
     "execution_count": 59,
     "metadata": {},
     "output_type": "execute_result"
    }
   ],
   "source": [
    "# Check dtypes\n",
    "X_conc.dtypes.value_counts()"
   ]
  },
  {
   "cell_type": "code",
   "execution_count": 60,
   "metadata": {},
   "outputs": [
    {
     "data": {
      "text/plain": [
       "['report_year',\n",
       " 'school__degrees_awarded_highest',\n",
       " 'school__degrees_awarded_predominant',\n",
       " 'school__institutional_characteristics_level',\n",
       " 'school__main_campus',\n",
       " 'school__online_only',\n",
       " 'school__ownership',\n",
       " 'school__region_id',\n",
       " 'school__state']"
      ]
     },
     "execution_count": 60,
     "metadata": {},
     "output_type": "execute_result"
    }
   ],
   "source": [
    "X_conc.columns[X_train.dtypes=='object'].tolist()"
   ]
  },
  {
   "cell_type": "code",
   "execution_count": 97,
   "metadata": {},
   "outputs": [
    {
     "data": {
      "text/plain": [
       "school__institutional_characteristics_level    0.000000\n",
       "school__state                                  0.000000\n",
       "school__main_campus                            0.000000\n",
       "school__degrees_awarded_predominant_recoded    0.000000\n",
       "school__degrees_awarded_predominant            0.000000\n",
       "school__degrees_awarded_highest                0.000000\n",
       "report_year                                    0.000000\n",
       "school__region_id                              0.000000\n",
       "school__ownership                              0.000000\n",
       "student__demographics_age_entry                0.004384\n",
       "dtype: float64"
      ]
     },
     "execution_count": 97,
     "metadata": {},
     "output_type": "execute_result"
    }
   ],
   "source": [
    "# Find out features with missing values\n",
    "X_conc.isnull().sum().sort_values(ascending=True).head(10) / len(X_train)"
   ]
  },
  {
   "cell_type": "code",
   "execution_count": null,
   "metadata": {},
   "outputs": [],
   "source": [
    "# Find out the high correlated features\n",
    "# Iterative find out corr>0.9"
   ]
  },
  {
   "cell_type": "markdown",
   "metadata": {},
   "source": [
    "#### Identified Quality and Tidiness Issues\n",
    "\n",
    "##### Quality (Dirty)\n",
    "\n",
    "- Completeness\n",
    "    - only 9 of 297 features has no missing value, and 8 of them are categorical features\n",
    "    - \n",
    "- Validity: none\n",
    "- Accuracy: none\n",
    "- Consistency: none\n",
    "\n",
    "##### Tidiness (Messy): None\n",
    "\n",
    "##### Learning Algorithm Purpose\n",
    "\n",
    "- 9 categorical features"
   ]
  },
  {
   "cell_type": "markdown",
   "metadata": {},
   "source": [
    "### 1.3 Cleaning"
   ]
  },
  {
   "cell_type": "markdown",
   "metadata": {},
   "source": [
    "## Step 2: Benchmark Buildup"
   ]
  },
  {
   "cell_type": "markdown",
   "metadata": {},
   "source": [
    "## Step 3: Interation of Further Data Wrangling"
   ]
  },
  {
   "cell_type": "markdown",
   "metadata": {},
   "source": [
    "## Step 4: Interation of Feature Engineering"
   ]
  },
  {
   "cell_type": "markdown",
   "metadata": {},
   "source": [
    "## Step 5: Interation of Single Model Selection"
   ]
  }
 ],
 "metadata": {
  "kernelspec": {
   "display_name": "Python 3",
   "language": "python",
   "name": "python3"
  },
  "language_info": {
   "codemirror_mode": {
    "name": "ipython",
    "version": 3
   },
   "file_extension": ".py",
   "mimetype": "text/x-python",
   "name": "python",
   "nbconvert_exporter": "python",
   "pygments_lexer": "ipython3",
   "version": "3.6.4"
  }
 },
 "nbformat": 4,
 "nbformat_minor": 2
}
