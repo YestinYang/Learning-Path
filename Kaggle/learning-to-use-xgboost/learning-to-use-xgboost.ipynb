{
 "cells": [
  {
   "cell_type": "markdown",
   "metadata": {
    "_cell_guid": "d4734507-8c87-4fe5-ad71-f1789bb400c2",
    "_uuid": "356f0198ce3ebd1a9602827cb866938db94f010a"
   },
   "source": [
    "*This tutorial is part of the [Learn Machine Learning](https://www.kaggle.com/dansbecker/learn-machine-learning) series. In this step, you will learn how to build and optimize models with the powerful xgboost library.* \n",
    "\n",
    "# What is XGBoost\n",
    "\n",
    "**XGBoost** is the leading model for working with standard tabular data (the type of data you store in Pandas DataFrames, as opposed to more exotic types of data like images and videos). XGBoost models dominate many Kaggle competitions. \n",
    "\n",
    "To reach peak accuracy, XGBoost models require more knowledge and  _model tuning_ than techniques like Random Forest. After this tutorial, you'ill be able to \n",
    "- Follow the full modeling workflow with XGBoost \n",
    "- Fine-tune XGBoost models for optimal performance\n",
    "\n",
    "\n",
    "XGBoost is an implementation of the **Gradient Boosted Decision Trees** algorithm (scikit-learn has another version of this algorithm, but XGBoost has some technical advantages.)  What is **Gradient Boosted Decision Trees**?  We'll walk through a diagram.\n",
    "\n",
    "![xgboost image](https://i.imgur.com/e7MIgXk.png)\n",
    "\n",
    "We go through cycles that repeatedly builds new models and combines them into an **ensemble** model.  We start the cycle by calculating the errors for each observation in the dataset.  We then build a new model to predict those.  We add predictions from this error-predicting model to the \"ensemble of models.\"  \n",
    "\n",
    "To make a prediction, we add the predictions from all previous models.  We can use these predictions to calculate new errors, build the next model, and add it to the ensemble.\n",
    "\n",
    "There's one piece outside that cycle.  We need some base prediction to start the cycle. In practice, the initial predictions can be pretty naive. Even if it's predictions are wildly inaccurate, subsequent additions to the ensemble will address those errors.\n",
    "\n",
    "This process may sound complicated, but the code to use it is straightforward. We'll fill in some additional explanatory details in the **model tuning** section below.\n",
    "\n",
    "---\n",
    "\n",
    "# Example"
   ]
  },
  {
   "cell_type": "markdown",
   "metadata": {
    "_cell_guid": "564d7a39-443c-4dd6-970c-b0fa5df27d27",
    "_uuid": "00791a3147a13a5897e29cb9c4ea0c0a415fd992"
   },
   "source": [
    "We will start with the data pre-loaded into **train_X**, **test_X**, **train_y**, **test_y**."
   ]
  },
  {
   "cell_type": "code",
   "execution_count": 3,
   "metadata": {
    "_cell_guid": "5ccb0b52-f433-4372-8a52-45867798bf52",
    "_kg_hide-input": false,
    "_uuid": "404e28f23a168f94ffba7d1259cea21281ca0b28",
    "collapsed": true
   },
   "outputs": [],
   "source": [
    "import pandas as pd\n",
    "from sklearn.model_selection import train_test_split\n",
    "from sklearn.preprocessing import Imputer\n",
    "\n",
    "data = pd.read_csv('train.csv')\n",
    "data.dropna(axis=0, subset=['SalePrice'], inplace=True)\n",
    "y = data.SalePrice\n",
    "X = data.drop(['SalePrice'], axis=1).select_dtypes(exclude=['object'])\n",
    "train_X, test_X, train_y, test_y = train_test_split(X.as_matrix(), y.as_matrix(), test_size=0.25)\n",
    "\n",
    "my_imputer = Imputer()\n",
    "train_X = my_imputer.fit_transform(train_X)\n",
    "test_X = my_imputer.transform(test_X)\n"
   ]
  },
  {
   "cell_type": "markdown",
   "metadata": {
    "_cell_guid": "622a2efe-1abf-4da3-a96c-3d44b6a6b66e",
    "_uuid": "dff675a1dd68320a6956e7814b34c096a7a6b2c7"
   },
   "source": [
    "We build and fit a model just as we would in scikit-learn."
   ]
  },
  {
   "cell_type": "code",
   "execution_count": 22,
   "metadata": {
    "_cell_guid": "cd8dedb3-c968-46eb-a714-368543067f82",
    "_kg_hide-output": true,
    "_uuid": "4989d6fc83a32eefcf968ada8a24539774c0353d",
    "collapsed": true
   },
   "outputs": [
    {
     "data": {
      "text/plain": [
       "XGBRegressor(base_score=0.5, booster='gbtree', colsample_bylevel=1,\n",
       "       colsample_bytree=1, gamma=0, learning_rate=0.1, max_delta_step=0,\n",
       "       max_depth=3, min_child_weight=1, missing=None, n_estimators=100,\n",
       "       n_jobs=1, nthread=None, objective='reg:linear', random_state=0,\n",
       "       reg_alpha=0, reg_lambda=1, scale_pos_weight=1, seed=None,\n",
       "       silent=True, subsample=1)"
      ]
     },
     "execution_count": 22,
     "metadata": {},
     "output_type": "execute_result"
    }
   ],
   "source": [
    "from xgboost import XGBRegressor\n",
    "\n",
    "my_model = XGBRegressor()\n",
    "# Add silent=True to avoid printing out updates with each cycle\n",
    "my_model.fit(train_X, train_y, verbose=False)\n"
   ]
  },
  {
   "cell_type": "markdown",
   "metadata": {
    "_cell_guid": "07ea4042-87fc-492c-947d-39879bed8ae4",
    "_uuid": "7dd364e097f41d05b3e6b3c190ec0f90d95229b6"
   },
   "source": [
    "We similarly evaluate a model and make predictions as we would do in scikit-learn."
   ]
  },
  {
   "cell_type": "code",
   "execution_count": 20,
   "metadata": {
    "_cell_guid": "81a7a6b4-0054-4695-b442-558f927efca0",
    "_uuid": "0296bd0ec89993c0d3d5a6ab33aaa8fb2573b978",
    "collapsed": true
   },
   "outputs": [
    {
     "name": "stdout",
     "output_type": "stream",
     "text": [
      "Mean Absolute Error : 17532.861997003423\n"
     ]
    }
   ],
   "source": [
    "# make predictions\n",
    "predictions = my_model.predict(test_X)\n",
    "\n",
    "from sklearn.metrics import mean_absolute_error\n",
    "print(\"Mean Absolute Error : \" + str(mean_absolute_error(predictions, test_y)))"
   ]
  },
  {
   "cell_type": "markdown",
   "metadata": {
    "_cell_guid": "113631b7-4984-4efe-a156-ada4ad8a7faa",
    "_uuid": "c127129ba773d7bc490b7762162f2aecf8cf3480"
   },
   "source": [
    "---\n",
    "# Model Tuning\n",
    "\n",
    "XGBoost has a few parameters that can dramatically affect your model's accuracy and training speed.  The first parameters you should understand are:\n",
    "\n",
    "### n_estimators and early_stopping_rounds\n",
    "**n_estimators** specifies how many times to go through the modeling cycle described above.  \n",
    "\n",
    "In the [underfitting vs overfitting graph](http://i.imgur.com/2q85n9s.png), n_estimators moves you further to the right.  Too low a value causes underfitting, which is inaccurate predictions on both training data and new data. Too large a value causes overfitting, which is accurate predictions on training data, but inaccurate predictions on new data (which is what we care about). You can experiment with your dataset to find the ideal.  Typical values range from 100-1000, though this depends a lot on the **learning rate** discussed below.\n",
    "\n",
    "The argument **early_stopping_rounds** offers a way to automatically find the ideal value. Early stopping causes the model to stop iterating when the validation score stops improving, even if we aren't at the hard stop for n_estimators.  It's smart to set a high value for **n_estimators** and then use **early_stopping_rounds** to find the optimal time to stop iterating.\n",
    "\n",
    "Since random chance sometimes causes a single round where validation scores don't improve, you need to specify a number for how many rounds of straight deterioration to allow before stopping.  **early_stopping_rounds = 5** is a reasonable value.  Thus we stop after 5 straight rounds of deteriorating validation scores.\n",
    "\n",
    "Here is the code to fit with early_stopping:"
   ]
  },
  {
   "cell_type": "code",
   "execution_count": 23,
   "metadata": {
    "_cell_guid": "8a76bffd-ebba-4d82-bef9-ec89f3351b69",
    "_uuid": "e10da100af8f7bb40a874956ce46912d63269e58",
    "collapsed": true
   },
   "outputs": [
    {
     "name": "stdout",
     "output_type": "stream",
     "text": [
      "[0]\tvalidation_0-rmse:186669\n",
      "Will train until validation_0-rmse hasn't improved in 5 rounds.\n",
      "[1]\tvalidation_0-rmse:169980\n",
      "[2]\tvalidation_0-rmse:154713\n",
      "[3]\tvalidation_0-rmse:140895\n",
      "[4]\tvalidation_0-rmse:128624\n",
      "[5]\tvalidation_0-rmse:117670\n",
      "[6]\tvalidation_0-rmse:107743\n",
      "[7]\tvalidation_0-rmse:98995.5\n",
      "[8]\tvalidation_0-rmse:91228.6\n",
      "[9]\tvalidation_0-rmse:83997.5\n",
      "[10]\tvalidation_0-rmse:77643.2\n",
      "[11]\tvalidation_0-rmse:72227.8\n",
      "[12]\tvalidation_0-rmse:67346.7\n",
      "[13]\tvalidation_0-rmse:63062.2\n",
      "[14]\tvalidation_0-rmse:59146.5\n",
      "[15]\tvalidation_0-rmse:55693.1\n",
      "[16]\tvalidation_0-rmse:52609.8\n",
      "[17]\tvalidation_0-rmse:50079.8\n",
      "[18]\tvalidation_0-rmse:47852.1\n",
      "[19]\tvalidation_0-rmse:45865.6\n",
      "[20]\tvalidation_0-rmse:43996.5\n",
      "[21]\tvalidation_0-rmse:42391.1\n",
      "[22]\tvalidation_0-rmse:41184.6\n",
      "[23]\tvalidation_0-rmse:39874.5\n",
      "[24]\tvalidation_0-rmse:38773.7\n",
      "[25]\tvalidation_0-rmse:37872.6\n",
      "[26]\tvalidation_0-rmse:36985.6\n",
      "[27]\tvalidation_0-rmse:36236.9\n",
      "[28]\tvalidation_0-rmse:35608.5\n",
      "[29]\tvalidation_0-rmse:35009.5\n",
      "[30]\tvalidation_0-rmse:34363.3\n",
      "[31]\tvalidation_0-rmse:34037.4\n",
      "[32]\tvalidation_0-rmse:33577.1\n",
      "[33]\tvalidation_0-rmse:33261.8\n",
      "[34]\tvalidation_0-rmse:33038.4\n",
      "[35]\tvalidation_0-rmse:32794.2\n",
      "[36]\tvalidation_0-rmse:32483.3\n",
      "[37]\tvalidation_0-rmse:32347.9\n",
      "[38]\tvalidation_0-rmse:32085.9\n",
      "[39]\tvalidation_0-rmse:31932.2\n",
      "[40]\tvalidation_0-rmse:31793.7\n",
      "[41]\tvalidation_0-rmse:31656.1\n",
      "[42]\tvalidation_0-rmse:31479.6\n",
      "[43]\tvalidation_0-rmse:31337.7\n",
      "[44]\tvalidation_0-rmse:31081.6\n",
      "[45]\tvalidation_0-rmse:31021.7\n",
      "[46]\tvalidation_0-rmse:31003.7\n",
      "[47]\tvalidation_0-rmse:30908.7\n",
      "[48]\tvalidation_0-rmse:30706.6\n",
      "[49]\tvalidation_0-rmse:30623.7\n",
      "[50]\tvalidation_0-rmse:30605.8\n",
      "[51]\tvalidation_0-rmse:30494.2\n",
      "[52]\tvalidation_0-rmse:30441.8\n",
      "[53]\tvalidation_0-rmse:30393.3\n",
      "[54]\tvalidation_0-rmse:30340.3\n",
      "[55]\tvalidation_0-rmse:30231\n",
      "[56]\tvalidation_0-rmse:30149.7\n",
      "[57]\tvalidation_0-rmse:30047.4\n",
      "[58]\tvalidation_0-rmse:30086.3\n",
      "[59]\tvalidation_0-rmse:30027.4\n",
      "[60]\tvalidation_0-rmse:29853.9\n",
      "[61]\tvalidation_0-rmse:29759.8\n",
      "[62]\tvalidation_0-rmse:29738.1\n",
      "[63]\tvalidation_0-rmse:29735.8\n",
      "[64]\tvalidation_0-rmse:29678.3\n",
      "[65]\tvalidation_0-rmse:29749.1\n",
      "[66]\tvalidation_0-rmse:29714.3\n",
      "[67]\tvalidation_0-rmse:29707.6\n",
      "[68]\tvalidation_0-rmse:29731\n",
      "[69]\tvalidation_0-rmse:29866.5\n",
      "Stopping. Best iteration:\n",
      "[64]\tvalidation_0-rmse:29678.3\n",
      "\n"
     ]
    },
    {
     "data": {
      "text/plain": [
       "XGBRegressor(base_score=0.5, booster='gbtree', colsample_bylevel=1,\n",
       "       colsample_bytree=1, gamma=0, learning_rate=0.1, max_delta_step=0,\n",
       "       max_depth=3, min_child_weight=1, missing=None, n_estimators=1000,\n",
       "       n_jobs=1, nthread=None, objective='reg:linear', random_state=0,\n",
       "       reg_alpha=0, reg_lambda=1, scale_pos_weight=1, seed=None,\n",
       "       silent=True, subsample=1)"
      ]
     },
     "execution_count": 23,
     "metadata": {},
     "output_type": "execute_result"
    }
   ],
   "source": [
    "my_model = XGBRegressor(n_estimators=1000)\n",
    "my_model.fit(train_X, train_y, early_stopping_rounds=5, \n",
    "             eval_set=[(test_X, test_y)], verbose=True)\n"
   ]
  },
  {
   "cell_type": "markdown",
   "metadata": {
    "_cell_guid": "d594b7b7-0277-4683-a6f5-dbd1cf2e21ea",
    "_uuid": "801ffd089a8b903d796a1f16a3c0a1ee8d9a1db9"
   },
   "source": [
    "When using **early_stopping_rounds**, you need to set aside some of your data for checking the number of rounds to use.  If you later want to fit a model with all of your data, set **n_estimators** to whatever value you found to be optimal when run with early stopping.\n",
    "\n",
    "### learning_rate\n",
    "Here's a subtle but important trick for better XGBoost models:\n",
    "\n",
    "Instead of getting predictions by simply adding up the predictions from each component model, we will multiply the predictions from each model by a small number before adding them in.  This means each tree we add to the ensemble helps us less.  In practice, this reduces the model's propensity to overfit.\n",
    "\n",
    "So, you can use a higher value of **n_estimators** without overfitting.  If you use early stopping, the appropriate number of trees will be set automatically.\n",
    "\n",
    "In general, a small learning rate (and large number of estimators) will yield more accurate XGBoost models, though it will also take the model longer to train since it does more iterations through the cycle.\n",
    "\n",
    "Modifying the example above to include a learing rate would yield the following code:"
   ]
  },
  {
   "cell_type": "code",
   "execution_count": 24,
   "metadata": {
    "_cell_guid": "4be218c5-3368-4ac8-b85f-9872d2627e1b",
    "_uuid": "501f1decb82798b58cb46542eb76f5e95d196195",
    "collapsed": true
   },
   "outputs": [
    {
     "name": "stdout",
     "output_type": "stream",
     "text": [
      "[0]\tvalidation_0-rmse:196168\n",
      "Will train until validation_0-rmse hasn't improved in 5 rounds.\n",
      "[1]\tvalidation_0-rmse:187318\n",
      "[2]\tvalidation_0-rmse:178715\n",
      "[3]\tvalidation_0-rmse:170550\n",
      "[4]\tvalidation_0-rmse:163102\n",
      "[5]\tvalidation_0-rmse:155787\n",
      "[6]\tvalidation_0-rmse:148794\n",
      "[7]\tvalidation_0-rmse:142255\n",
      "[8]\tvalidation_0-rmse:135981\n",
      "[9]\tvalidation_0-rmse:130074\n",
      "[10]\tvalidation_0-rmse:124619\n",
      "[11]\tvalidation_0-rmse:119179\n",
      "[12]\tvalidation_0-rmse:114160\n",
      "[13]\tvalidation_0-rmse:109405\n",
      "[14]\tvalidation_0-rmse:104921\n",
      "[15]\tvalidation_0-rmse:100773\n",
      "[16]\tvalidation_0-rmse:96751.2\n",
      "[17]\tvalidation_0-rmse:93058.4\n",
      "[18]\tvalidation_0-rmse:89460.6\n",
      "[19]\tvalidation_0-rmse:85981.6\n",
      "[20]\tvalidation_0-rmse:82737.5\n",
      "[21]\tvalidation_0-rmse:79692.8\n",
      "[22]\tvalidation_0-rmse:76830\n",
      "[23]\tvalidation_0-rmse:74105.3\n",
      "[24]\tvalidation_0-rmse:71581.7\n",
      "[25]\tvalidation_0-rmse:69176\n",
      "[26]\tvalidation_0-rmse:66910.6\n",
      "[27]\tvalidation_0-rmse:64701.2\n",
      "[28]\tvalidation_0-rmse:62836\n",
      "[29]\tvalidation_0-rmse:61091\n",
      "[30]\tvalidation_0-rmse:59149.7\n",
      "[31]\tvalidation_0-rmse:57436.4\n",
      "[32]\tvalidation_0-rmse:55791.2\n",
      "[33]\tvalidation_0-rmse:54208.3\n",
      "[34]\tvalidation_0-rmse:52643.6\n",
      "[35]\tvalidation_0-rmse:51451.6\n",
      "[36]\tvalidation_0-rmse:50101\n",
      "[37]\tvalidation_0-rmse:48850.3\n",
      "[38]\tvalidation_0-rmse:47696.4\n",
      "[39]\tvalidation_0-rmse:46690.4\n",
      "[40]\tvalidation_0-rmse:45645.5\n",
      "[41]\tvalidation_0-rmse:44759\n",
      "[42]\tvalidation_0-rmse:43836\n",
      "[43]\tvalidation_0-rmse:43122.2\n",
      "[44]\tvalidation_0-rmse:42343\n",
      "[45]\tvalidation_0-rmse:41553.3\n",
      "[46]\tvalidation_0-rmse:40857.6\n",
      "[47]\tvalidation_0-rmse:40196\n",
      "[48]\tvalidation_0-rmse:39577.8\n",
      "[49]\tvalidation_0-rmse:39054.2\n",
      "[50]\tvalidation_0-rmse:38493.1\n",
      "[51]\tvalidation_0-rmse:38007.7\n",
      "[52]\tvalidation_0-rmse:37582\n",
      "[53]\tvalidation_0-rmse:37209.4\n",
      "[54]\tvalidation_0-rmse:36794.8\n",
      "[55]\tvalidation_0-rmse:36363.4\n",
      "[56]\tvalidation_0-rmse:36086.8\n",
      "[57]\tvalidation_0-rmse:35748.2\n",
      "[58]\tvalidation_0-rmse:35467.9\n",
      "[59]\tvalidation_0-rmse:35069\n",
      "[60]\tvalidation_0-rmse:34862.9\n",
      "[61]\tvalidation_0-rmse:34679.4\n",
      "[62]\tvalidation_0-rmse:34397.1\n",
      "[63]\tvalidation_0-rmse:34147.1\n",
      "[64]\tvalidation_0-rmse:33919.2\n",
      "[65]\tvalidation_0-rmse:33688.4\n",
      "[66]\tvalidation_0-rmse:33511.1\n",
      "[67]\tvalidation_0-rmse:33310.3\n",
      "[68]\tvalidation_0-rmse:33178.8\n",
      "[69]\tvalidation_0-rmse:33041.6\n",
      "[70]\tvalidation_0-rmse:32853\n",
      "[71]\tvalidation_0-rmse:32767.9\n",
      "[72]\tvalidation_0-rmse:32671.5\n",
      "[73]\tvalidation_0-rmse:32566.2\n",
      "[74]\tvalidation_0-rmse:32462.5\n",
      "[75]\tvalidation_0-rmse:32374.7\n",
      "[76]\tvalidation_0-rmse:32263.2\n",
      "[77]\tvalidation_0-rmse:32152.6\n",
      "[78]\tvalidation_0-rmse:32012.5\n",
      "[79]\tvalidation_0-rmse:31926\n",
      "[80]\tvalidation_0-rmse:31819.8\n",
      "[81]\tvalidation_0-rmse:31684.7\n",
      "[82]\tvalidation_0-rmse:31637\n",
      "[83]\tvalidation_0-rmse:31572.5\n",
      "[84]\tvalidation_0-rmse:31515.2\n",
      "[85]\tvalidation_0-rmse:31360.2\n",
      "[86]\tvalidation_0-rmse:31297.4\n",
      "[87]\tvalidation_0-rmse:31235.3\n",
      "[88]\tvalidation_0-rmse:31138.2\n",
      "[89]\tvalidation_0-rmse:31072.5\n",
      "[90]\tvalidation_0-rmse:30951\n",
      "[91]\tvalidation_0-rmse:30894.8\n",
      "[92]\tvalidation_0-rmse:30858.5\n",
      "[93]\tvalidation_0-rmse:30837.7\n",
      "[94]\tvalidation_0-rmse:30758.9\n",
      "[95]\tvalidation_0-rmse:30708.9\n",
      "[96]\tvalidation_0-rmse:30684\n",
      "[97]\tvalidation_0-rmse:30600.6\n",
      "[98]\tvalidation_0-rmse:30506.9\n",
      "[99]\tvalidation_0-rmse:30441.4\n",
      "[100]\tvalidation_0-rmse:30402.4\n",
      "[101]\tvalidation_0-rmse:30384.3\n",
      "[102]\tvalidation_0-rmse:30316\n",
      "[103]\tvalidation_0-rmse:30267.8\n",
      "[104]\tvalidation_0-rmse:30228.9\n",
      "[105]\tvalidation_0-rmse:30209.9\n",
      "[106]\tvalidation_0-rmse:30169.4\n",
      "[107]\tvalidation_0-rmse:30162.6\n",
      "[108]\tvalidation_0-rmse:30110.8\n",
      "[109]\tvalidation_0-rmse:30057.6\n",
      "[110]\tvalidation_0-rmse:30050.4\n",
      "[111]\tvalidation_0-rmse:29989.4\n",
      "[112]\tvalidation_0-rmse:29970.8\n",
      "[113]\tvalidation_0-rmse:29941.7\n",
      "[114]\tvalidation_0-rmse:29993.7\n",
      "[115]\tvalidation_0-rmse:30027.9\n",
      "[116]\tvalidation_0-rmse:30028.3\n",
      "[117]\tvalidation_0-rmse:29981.2\n",
      "[118]\tvalidation_0-rmse:29943.2\n",
      "Stopping. Best iteration:\n",
      "[113]\tvalidation_0-rmse:29941.7\n",
      "\n"
     ]
    },
    {
     "data": {
      "text/plain": [
       "XGBRegressor(base_score=0.5, booster='gbtree', colsample_bylevel=1,\n",
       "       colsample_bytree=1, gamma=0, learning_rate=0.05, max_delta_step=0,\n",
       "       max_depth=3, min_child_weight=1, missing=None, n_estimators=1000,\n",
       "       n_jobs=1, nthread=None, objective='reg:linear', random_state=0,\n",
       "       reg_alpha=0, reg_lambda=1, scale_pos_weight=1, seed=None,\n",
       "       silent=True, subsample=1)"
      ]
     },
     "execution_count": 24,
     "metadata": {},
     "output_type": "execute_result"
    }
   ],
   "source": [
    "my_model = XGBRegressor(n_estimators=1000, learning_rate=0.05)\n",
    "my_model.fit(train_X, train_y, early_stopping_rounds=5, \n",
    "             eval_set=[(test_X, test_y)], verbose=True)\n"
   ]
  },
  {
   "cell_type": "markdown",
   "metadata": {
    "_cell_guid": "8705eda9-4437-4495-92f6-88809cf5d147",
    "_uuid": "a477779f3a9bf8366f2d1b053a162bcff17c9c0a"
   },
   "source": [
    "### n_jobs\n",
    "On larger datasets where runtime is a consideration, you can use parallelism to build your models faster.  It's common to set the parameter **n_jobs** equal to the number of cores on your machine.  On smaller datasets, this won't help. \n",
    "\n",
    "The resulting model won't be any better, so micro-optimizing for fitting time is typically nothing but a distraction. But, it's useful in large datasets where you would otherwise spend a long time waiting during the `fit` command.\n",
    "\n",
    "XGBoost has a multitude of other parameters, but these will go a very long way in helping you fine-tune your XGBoost model for optimal performance.\n",
    "\n",
    "# Conclusion\n",
    "XGBoost is currently the dominant algorithm for building accurate models on conventional data (also called tabular or strutured data).  Go apply it to improve your models!\n",
    "\n",
    "# Your Turn\n",
    "Convert yuor model to use XGBoost.\n",
    "\n",
    "Use early stopping to find a good value for n_estimators.  Then re-estimate the model with all of your training data, and that value of n_estimators.\n",
    "\n",
    "Once you've done this, return to **[Learning Machine Learning](https://www.kaggle.com/dansbecker/learn-machine-learning)**, to keep improving..  \n",
    "\n"
   ]
  }
 ],
 "metadata": {
  "kernelspec": {
   "display_name": "Python 3",
   "language": "python",
   "name": "python3"
  },
  "language_info": {
   "codemirror_mode": {
    "name": "ipython",
    "version": 3
   },
   "file_extension": ".py",
   "mimetype": "text/x-python",
   "name": "python",
   "nbconvert_exporter": "python",
   "pygments_lexer": "ipython3",
   "version": "3.6.4"
  }
 },
 "nbformat": 4,
 "nbformat_minor": 2
}
