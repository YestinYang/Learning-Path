{
 "cells": [
  {
   "cell_type": "markdown",
   "metadata": {},
   "source": [
    "# Titanic: Machine Learning from Disaster\n",
    "\n",
    "tags: binary classification, accuracy\n",
    "\n",
    "## Features Cleansing and Feature Engineering"
   ]
  },
  {
   "cell_type": "code",
   "execution_count": 151,
   "metadata": {},
   "outputs": [],
   "source": [
    "import pandas as pd\n",
    "import numpy as np\n",
    "import matplotlib.pyplot as plt\n",
    "import seaborn as sns\n",
    "from sklearn.base import TransformerMixin"
   ]
  },
  {
   "cell_type": "code",
   "execution_count": 152,
   "metadata": {},
   "outputs": [],
   "source": [
    "## Import train data table\n",
    "# PassengerID as index\n",
    "train = pd.read_csv('train.csv', index_col='PassengerId')\n",
    "X = train.drop('Survived', axis=1)\n",
    "y = train[['Survived']].copy()\n",
    "\n",
    "pred = pd.read_csv('test.csv', index_col='PassengerId')"
   ]
  },
  {
   "cell_type": "code",
   "execution_count": 153,
   "metadata": {},
   "outputs": [
    {
     "name": "stdout",
     "output_type": "stream",
     "text": [
      "Index(['Pclass', 'Name', 'Sex', 'Age', 'SibSp', 'Parch', 'Ticket', 'Fare',\n",
      "       'Cabin', 'Embarked'],\n",
      "      dtype='object')\n",
      "Index(['Survived'], dtype='object')\n",
      "Index(['Pclass', 'Name', 'Sex', 'Age', 'SibSp', 'Parch', 'Ticket', 'Fare',\n",
      "       'Cabin', 'Embarked'],\n",
      "      dtype='object')\n"
     ]
    }
   ],
   "source": [
    "## Check columns are correct\n",
    "print(X.columns)\n",
    "print(y.columns)\n",
    "print(pred.columns)"
   ]
  },
  {
   "cell_type": "code",
   "execution_count": 154,
   "metadata": {},
   "outputs": [],
   "source": [
    "## Remove Name, Ticket Number and Cabin with less predictive\n",
    "X.drop(columns=['Name','Ticket','Cabin'], inplace=True)\n",
    "pred.drop(columns=['Name','Ticket','Cabin'], inplace=True)"
   ]
  },
  {
   "cell_type": "code",
   "execution_count": 155,
   "metadata": {},
   "outputs": [],
   "source": [
    "## For Age column\n",
    "# 1. add in new column to indicate estimated age\n",
    "# 2. remove 0.5 from estimated age\n",
    "\n",
    "def Insert_estAge(df_list):\n",
    "    for df in df_list:\n",
    "        if 'estAge' in df.columns:\n",
    "            continue\n",
    "        else:\n",
    "            df.insert(df.columns.tolist().index('Age')+1, 'estAge', 0)\n",
    "            df.loc[(df.Age/0.5)%2 == 1, 'estAge']=1\n",
    "            df.loc[(df.Age/0.5)%2 == 1, 'Age'] -= 0.5\n",
    "    \n",
    "    return"
   ]
  },
  {
   "cell_type": "code",
   "execution_count": 156,
   "metadata": {},
   "outputs": [
    {
     "name": "stdout",
     "output_type": "stream",
     "text": [
      "Index(['Pclass', 'Sex', 'Age', 'estAge', 'SibSp', 'Parch', 'Fare', 'Embarked'], dtype='object')\n",
      "Index(['Pclass', 'Sex', 'Age', 'estAge', 'SibSp', 'Parch', 'Fare', 'Embarked'], dtype='object')\n"
     ]
    }
   ],
   "source": [
    "Insert_estAge([X, pred])\n",
    "\n",
    "print(X.columns)\n",
    "print(pred.columns)"
   ]
  },
  {
   "cell_type": "code",
   "execution_count": 157,
   "metadata": {},
   "outputs": [
    {
     "name": "stdout",
     "output_type": "stream",
     "text": [
      "Pclass        0\n",
      "Sex           0\n",
      "Age         177\n",
      "estAge        0\n",
      "SibSp         0\n",
      "Parch         0\n",
      "Fare          0\n",
      "Embarked      2\n",
      "dtype: int64\n",
      "Pclass       0\n",
      "Sex          0\n",
      "Age         86\n",
      "estAge       0\n",
      "SibSp        0\n",
      "Parch        0\n",
      "Fare         1\n",
      "Embarked     0\n",
      "dtype: int64\n"
     ]
    }
   ],
   "source": [
    "## Fill missing data\n",
    "# check missing value of dataframe\n",
    "print(X.isnull().sum())\n",
    "print(pred.isnull().sum())"
   ]
  },
  {
   "cell_type": "code",
   "execution_count": 158,
   "metadata": {},
   "outputs": [],
   "source": [
    "# 0. define a class imputing numeric feature with median, and categorical feature with mode\n",
    "# 1. combine both dataframes\n",
    "# 2. impute median for numeric features and mode for categorical features\n",
    "\n",
    "class DataFrameImputer(TransformerMixin):\n",
    "    def __init__(self):\n",
    "        pass\n",
    "    \n",
    "    # use list comprehensions to create a pandas series of fill value\n",
    "    def fit(self, X, y=None):\n",
    "        self.fill = pd.Series([X[c].mode()[0]\n",
    "                               if X[c].dtype == np.dtype('O')\n",
    "                               else X[c].median()\n",
    "                               for c in X],\n",
    "                              index=X.columns)\n",
    "        return self\n",
    "    \n",
    "    def transform(self, X, y=None):\n",
    "        return X.fillna(self.fill)"
   ]
  },
  {
   "cell_type": "code",
   "execution_count": 159,
   "metadata": {},
   "outputs": [],
   "source": [
    "## Combine and impute\n",
    "\n",
    "whole_df = X.append(pred)\n",
    "\n",
    "imp = DataFrameImputer()\n",
    "imp_whole_df = imp.fit_transform(whole_df)"
   ]
  },
  {
   "cell_type": "code",
   "execution_count": 166,
   "metadata": {},
   "outputs": [],
   "source": [
    "## Split out to be imp_X and imp_pred\n",
    "\n",
    "imp_X = imp_whole_df.loc[:X.shape[0], :].copy()\n",
    "imp_pred = imp_whole_df.loc[X.shape[0]+1:, :].copy()"
   ]
  },
  {
   "cell_type": "markdown",
   "metadata": {},
   "source": [
    "## Quick and Dirty Modeling"
   ]
  },
  {
   "cell_type": "code",
   "execution_count": 175,
   "metadata": {},
   "outputs": [],
   "source": [
    "## Consider AutoML to get fast result\n",
    "\n",
    "import scikitplot as skplt"
   ]
  },
  {
   "cell_type": "code",
   "execution_count": null,
   "metadata": {},
   "outputs": [],
   "source": [
    "## Split train / validation / test set from imp_X"
   ]
  }
 ],
 "metadata": {
  "kernelspec": {
   "display_name": "Python 3",
   "language": "python",
   "name": "python3"
  },
  "language_info": {
   "codemirror_mode": {
    "name": "ipython",
    "version": 3
   },
   "file_extension": ".py",
   "mimetype": "text/x-python",
   "name": "python",
   "nbconvert_exporter": "python",
   "pygments_lexer": "ipython3",
   "version": "3.6.4"
  }
 },
 "nbformat": 4,
 "nbformat_minor": 2
}
