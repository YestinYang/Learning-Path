{
 "cells": [
  {
   "cell_type": "markdown",
   "metadata": {},
   "source": [
    "# Tensorflow X Keras: Buiding Blocks (How to Play)\n",
    "\n",
    "It is a summary for Tensorflow building blocks, and guide to setup models in it.\n",
    "\n",
    "The whole document is divided into \n",
    "1. \n",
    "2. \n",
    "3. \n",
    "4. \n",
    "...\n",
    "\n",
    "## 1. Basic Procedures\n",
    "\n",
    "Tensorflow model implementation is only two parts:\n",
    "1. Building a computational graph\n",
    "2. Running a computatioal graph\n",
    "\n",
    "### Fundamental Element -- Tensor\n",
    "\n",
    "A 3D tensor with shape $[a, b, c]$ can be understood as below\n",
    "1. a is # of elements in 1st outer bracket (how many brackets in the outermost bracket)\n",
    "2. b is # of elements in 2nd outer bracket\n",
    "3. c is # of elements in 3rd outer bracket\n",
    "\n",
    "<img src=\"img/tensor.png\" alt=\"title\" >\n",
    "\n",
    "\n",
    "### Build Computational Graph\n",
    "\n",
    "Graph is consisted by nodes of four kinds:\n",
    "- **Constant:** *NO* input --> output internally stored values\n",
    "    - `tf.constant(value, dtype, shape)`\n",
    "    - initialized when call `tf.constant`\n",
    "- **Operation:** one or more inputs --> output operation results\n",
    "\n",
    "<img src=\"img/node1.png\" alt=\"title\" >\n",
    "\n",
    "The most easy way of starting a session is:\n",
    "1. create a instance `sess = tf.Session()`\n",
    "2. then evaluate any nodes with `sess.run(<nodes you want to evaluate>)`\n",
    "\n",
    "The other option better for IPython notebook is to use `sess = tf.InteractiveSession()`. This avoids having to pass an explicit Session object to run ops.\n",
    "\n",
    "The reason why using session is that:\n",
    "> Instead of running a single expensive operation independently from Python, which has high cost to transferring data, TensorFlow lets us describe a graph of interacting operations that run entirely outside Python."
   ]
  },
  {
   "cell_type": "code",
   "execution_count": 19,
   "metadata": {},
   "outputs": [
    {
     "name": "stdout",
     "output_type": "stream",
     "text": [
      "Tensor(\"Const_2:0\", shape=(), dtype=float32) Tensor(\"Const_3:0\", shape=(), dtype=float32) \n",
      "\n",
      "[3.0, 4.0] \n",
      "\n",
      "node3: Tensor(\"Add_1:0\", shape=(), dtype=float32)\n",
      "sess.run(node3): 7.0\n"
     ]
    }
   ],
   "source": [
    "### Example of constant and operation nodes\n",
    "import tensorflow as tf\n",
    "\n",
    "# Create seperated constant nodes in computational graph\n",
    "node1 = tf.constant(3.0, dtype=tf.float32)\n",
    "node2 = tf.constant(4.0)  # Also tf.float32 implicitly\n",
    "print(node1, node2, \"\\n\")  # This only outputs the chracteristics of these two nodes, without evaluate it\n",
    "\n",
    "# To evaluate the node and output the result\n",
    "sess = tf.Session()\n",
    "print(sess.run([node1, node2]), \"\\n\")\n",
    "\n",
    "# Add in a operation nodes of an operation\n",
    "node3 = tf.add(node1, node2)\n",
    "print(\"node3:\", node3)\n",
    "print(\"sess.run(node3):\", sess.run(node3))"
   ]
  },
  {
   "cell_type": "code",
   "execution_count": null,
   "metadata": {},
   "outputs": [],
   "source": [
    "### Example of tf.InteractiveSession()\n",
    "sess = tf.InteractiveSession()\n",
    "a = tf.constant(5.0)\n",
    "b = tf.constant(6.0)\n",
    "c = a * b\n",
    "\n",
    "# We can just use 'c.eval()' without passing 'sess'\n",
    "print(c.eval())\n",
    "sess.close()\n",
    "\n",
    "### Regular session example\n",
    "with tf.Session():\n",
    "  # We can also use 'c.eval()' here.\n",
    "  print(c.eval())"
   ]
  },
  {
   "cell_type": "markdown",
   "metadata": {},
   "source": [
    "-------\n",
    "The other two kinds of nodes are:\n",
    "- **Placeholder:** *NO* input --> output external feed values\n",
    "    - `tf.placeholder(dtype, shape)`\n",
    "    - feed data when call 'sess.run'\n",
    "    - <img src=\"img/placeholder.png\" alt=\"title\" >\n",
    "- **Variable:** *NO* input --> output trainable parameters\n",
    "    - `tf.get_variable` (high API) and `tf.Variable(<initial-value>)` (low API) \n",
    "    - initialized when call `init = tf.global_variables_initializer()` and `sess.run(init)`"
   ]
  },
  {
   "cell_type": "code",
   "execution_count": 20,
   "metadata": {},
   "outputs": [
    {
     "name": "stdout",
     "output_type": "stream",
     "text": [
      "23.66\n"
     ]
    }
   ],
   "source": [
    "### Example of placeholder and variable nodes\n",
    "# Variables\n",
    "W = tf.Variable([.3], dtype=tf.float32)\n",
    "b = tf.Variable([-.3], dtype=tf.float32)\n",
    "\n",
    "# Input and Output\n",
    "x = tf.placeholder(tf.float32)\n",
    "linear_model = W*x + b\n",
    "y = tf.placeholder(tf.float32)\n",
    "\n",
    "# Loss function\n",
    "squared_deltas = tf.square(linear_model - y)\n",
    "loss = tf.reduce_sum(squared_deltas)\n",
    "\n",
    "# Initialize variable (reset variables)\n",
    "init = tf.global_variables_initializer()\n",
    "sess.run(init)  # After this step, can also assign specific value to variable with tf.assign(<variable name>, [<value>]) \n",
    "\n",
    "print(sess.run(loss, {x: [1, 2, 3, 4], y: [0, -1, -2, -3]}))"
   ]
  },
  {
   "cell_type": "markdown",
   "metadata": {},
   "source": [
    "### Train Model\n",
    "\n",
    "Tensorflow will automatically handles derivatives after setup optimizer."
   ]
  },
  {
   "cell_type": "code",
   "execution_count": 21,
   "metadata": {},
   "outputs": [],
   "source": [
    "### Create optimizer after loss function is specified\n",
    "optimizer = tf.train.GradientDescentOptimizer(0.01)  # Types of optimizer\n",
    "train = optimizer.minimize(loss)  # What is going to be optimized"
   ]
  },
  {
   "cell_type": "code",
   "execution_count": 22,
   "metadata": {},
   "outputs": [
    {
     "name": "stdout",
     "output_type": "stream",
     "text": [
      "W: [-0.9999969] b: [ 0.99999082] loss: 5.69997e-11\n"
     ]
    }
   ],
   "source": [
    "### Start training\n",
    "sess.run(init) # Reset values to incorrect defaults\n",
    "\n",
    "for i in range(1000):\n",
    "  sess.run(train, {x: [1, 2, 3, 4], y: [0, -1, -2, -3]})\n",
    "\n",
    "curr_W, curr_b, curr_loss = sess.run([W, b, loss], {x: [1, 2, 3, 4], y: [0, -1, -2, -3]})\n",
    "print(\"W: %s b: %s loss: %s\"%(curr_W, curr_b, curr_loss))"
   ]
  },
  {
   "cell_type": "markdown",
   "metadata": {},
   "source": [
    "<img src=\"img/linear.png\" alt=\"title\" >"
   ]
  },
  {
   "cell_type": "markdown",
   "metadata": {},
   "source": [
    "## 2. Build and Train Model via tf.estimator\n",
    "\n",
    "Higher API for tensorflow model building and training. [Official Introduction](https://www.tensorflow.org/get_started/get_started)"
   ]
  },
  {
   "cell_type": "markdown",
   "metadata": {},
   "source": [
    "## 3. TensorBoard\n",
    "\n",
    "Write a log file consisting model training details (Event protocol buffer) and open it with TensorBoard to visualize it.\n",
    "\n",
    "By using `add` method of `tf.summary.FileWriter`, you can specify what summaries you need to collect. For example, you are going to visualize the graph before training:\n",
    "\n",
    "``` python\n",
    "sess.run(tf.global_variables_initializer())\n",
    "\n",
    "writer = tf.summary.FileWriter(logdir)\n",
    "writer.add_graph(sess.graph)\n",
    "```\n",
    "\n",
    "Except for the graph, normally we collect all summaries periodically when training the model."
   ]
  },
  {
   "cell_type": "code",
   "execution_count": null,
   "metadata": {},
   "outputs": [],
   "source": [
    "### Well specified groups of neural network components\n",
    "### helps meaningful visualization"
   ]
  },
  {
   "cell_type": "code",
   "execution_count": null,
   "metadata": {},
   "outputs": [],
   "source": [
    "### The simplest way is collecting all summaries of the graph\n",
    "merged_summary = tf.summary.merge_all()\n",
    "writer = tf.summary.FileWriter(logdir)\n",
    "writer.add_graph(sess.graph)\n",
    "\n",
    "for i in range(2001):\n",
    "    batch = mnist.train.next_batch(100)\n",
    "    if i % 5 == 0:\n",
    "        s = sess.run(merged_summary, feed_dict={x: batch[0], y: batch[1]})\n",
    "        writer.add_summary(s, i)\n",
    "    sess.run(train_step, feed_dict={x: batch[0], y: batch[1]})\n",
    "    \n",
    "### Run Tensorboard via common line\n",
    ">> tensorboard --logdir <full path of log file>"
   ]
  }
 ],
 "metadata": {
  "kernelspec": {
   "display_name": "Python 3",
   "language": "python",
   "name": "python3"
  },
  "language_info": {
   "codemirror_mode": {
    "name": "ipython",
    "version": 3
   },
   "file_extension": ".py",
   "mimetype": "text/x-python",
   "name": "python",
   "nbconvert_exporter": "python",
   "pygments_lexer": "ipython3",
   "version": "3.5.4"
  }
 },
 "nbformat": 4,
 "nbformat_minor": 2
}
